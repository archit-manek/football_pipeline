{
 "cells": [
  {
   "cell_type": "code",
   "execution_count": null,
   "id": "155af80f",
   "metadata": {},
   "outputs": [
    {
     "name": "stdout",
     "output_type": "stream",
     "text": [
      "Schema({'id': String, 'index': Int64, 'period': Int64, 'timestamp': String, 'minute': Int64, 'second': Int64, 'possession': Int64, 'duration': Float64, 'type_id': Int64, 'type_name': String, 'possession_team_id': Int64, 'possession_team_name': String, 'play_pattern_id': Int64, 'play_pattern_name': String, 'team_id': Int64, 'team_name': String, 'tactics_formation': Float64, 'tactics_lineup': List(Struct({'jersey_number': Int64, 'player': Struct({'id': Int64, 'name': String}), 'position': Struct({'id': Int64, 'name': String})})), 'related_events': String, 'location': String, 'player_id': Float64, 'player_name': String, 'position_id': Float64, 'position_name': String, 'pass_recipient_id': Float64, 'pass_recipient_name': String, 'pass_length': Float64, 'pass_angle': Float64, 'pass_height_id': Float64, 'pass_height_name': String, 'pass_end_location': List(Float64), 'pass_body_part_id': Float64, 'pass_body_part_name': String, 'pass_type_id': Float64, 'pass_type_name': String, 'carry_end_location': List(Float64), 'pass_switch': Boolean, 'pass_outcome_id': Float64, 'pass_outcome_name': String, 'ball_receipt_outcome_id': Float64, 'ball_receipt_outcome_name': String, 'under_pressure': Boolean, 'duel_type_id': Float64, 'duel_type_name': String, 'pass_aerial_won': Boolean, 'counterpress': Boolean, 'interception_outcome_id': Float64, 'interception_outcome_name': String, 'off_camera': Boolean, 'ball_recovery_recovery_failure': Boolean, 'pass_assisted_shot_id': String, 'pass_shot_assist': Boolean, 'shot_statsbomb_xg': Float64, 'shot_end_location': List(Float64), 'shot_key_pass_id': String, 'shot_outcome_id': Float64, 'shot_outcome_name': String, 'shot_first_time': Boolean, 'shot_technique_id': Float64, 'shot_technique_name': String, 'shot_body_part_id': Float64, 'shot_body_part_name': String, 'shot_type_id': Float64, 'shot_type_name': String, 'shot_freeze_frame': List(Struct({'location': List(Float64), 'player': Struct({'id': Int64, 'name': String}), 'position': Struct({'id': Int64, 'name': String}), 'teammate': Boolean})), 'goalkeeper_end_location': List(Float64), 'goalkeeper_type_id': Float64, 'goalkeeper_type_name': String, 'goalkeeper_position_id': Float64, 'goalkeeper_position_name': String, 'pass_cross': Boolean, 'goalkeeper_outcome_id': Float64, 'goalkeeper_outcome_name': String, 'clearance_left_foot': Boolean, 'clearance_body_part_id': Float64, 'clearance_body_part_name': String, 'block_deflection': Boolean, 'duel_outcome_id': Float64, 'duel_outcome_name': String, 'dribble_nutmeg': Boolean, 'dribble_outcome_id': Float64, 'dribble_outcome_name': String, 'foul_committed_offensive': Boolean, 'foul_committed_card_id': Float64, 'foul_committed_card_name': String, 'foul_won_defensive': Boolean, 'pass_through_ball': Boolean, 'pass_technique_id': Float64, 'pass_technique_name': String, 'out': Boolean, 'clearance_right_foot': Boolean, 'pass_inswinging': Boolean, 'goalkeeper_technique_id': Float64, 'goalkeeper_technique_name': String, 'goalkeeper_body_part_id': Float64, 'goalkeeper_body_part_name': String, 'clearance_head': Boolean, 'shot_aerial_won': Boolean, 'miscontrol_aerial_won': Boolean, 'dribble_overrun': Boolean, 'pass_miscommunication': Boolean, 'block_offensive': Boolean, 'bad_behaviour_card_id': Float64, 'bad_behaviour_card_name': String, 'substitution_outcome_id': Float64, 'substitution_outcome_name': String, 'substitution_replacement_id': Float64, 'substitution_replacement_name': String, 'pass_cut_back': Boolean, 'shot_one_on_one': Boolean, 'foul_committed_advantage': Boolean, 'foul_won_advantage': Boolean, 'clearance_aerial_won': Boolean, 'pass_deflected': Boolean, 'pass_no_touch': Boolean, 'foul_committed_type_id': Float64, 'foul_committed_type_name': String, 'pass_straight': Boolean, 'pass_goal_assist': Boolean})\n"
     ]
    },
    {
     "data": {
      "text/html": [
       "<div><style>\n",
       ".dataframe > thead > tr,\n",
       ".dataframe > tbody > tr {\n",
       "  text-align: right;\n",
       "  white-space: pre-wrap;\n",
       "}\n",
       "</style>\n",
       "<small>shape: (1, 119)</small><table border=\"1\" class=\"dataframe\"><thead><tr><th>id</th><th>index</th><th>period</th><th>timestamp</th><th>minute</th><th>second</th><th>possession</th><th>duration</th><th>type_id</th><th>type_name</th><th>possession_team_id</th><th>possession_team_name</th><th>play_pattern_id</th><th>play_pattern_name</th><th>team_id</th><th>team_name</th><th>tactics_formation</th><th>tactics_lineup</th><th>related_events</th><th>location</th><th>player_id</th><th>player_name</th><th>position_id</th><th>position_name</th><th>pass_recipient_id</th><th>pass_recipient_name</th><th>pass_length</th><th>pass_angle</th><th>pass_height_id</th><th>pass_height_name</th><th>pass_end_location</th><th>pass_body_part_id</th><th>pass_body_part_name</th><th>pass_type_id</th><th>pass_type_name</th><th>carry_end_location</th><th>pass_switch</th><th>&hellip;</th><th>foul_committed_offensive</th><th>foul_committed_card_id</th><th>foul_committed_card_name</th><th>foul_won_defensive</th><th>pass_through_ball</th><th>pass_technique_id</th><th>pass_technique_name</th><th>out</th><th>clearance_right_foot</th><th>pass_inswinging</th><th>goalkeeper_technique_id</th><th>goalkeeper_technique_name</th><th>goalkeeper_body_part_id</th><th>goalkeeper_body_part_name</th><th>clearance_head</th><th>shot_aerial_won</th><th>miscontrol_aerial_won</th><th>dribble_overrun</th><th>pass_miscommunication</th><th>block_offensive</th><th>bad_behaviour_card_id</th><th>bad_behaviour_card_name</th><th>substitution_outcome_id</th><th>substitution_outcome_name</th><th>substitution_replacement_id</th><th>substitution_replacement_name</th><th>pass_cut_back</th><th>shot_one_on_one</th><th>foul_committed_advantage</th><th>foul_won_advantage</th><th>clearance_aerial_won</th><th>pass_deflected</th><th>pass_no_touch</th><th>foul_committed_type_id</th><th>foul_committed_type_name</th><th>pass_straight</th><th>pass_goal_assist</th></tr><tr><td>str</td><td>i64</td><td>i64</td><td>str</td><td>i64</td><td>i64</td><td>i64</td><td>f64</td><td>i64</td><td>str</td><td>i64</td><td>str</td><td>i64</td><td>str</td><td>i64</td><td>str</td><td>f64</td><td>list[struct[3]]</td><td>str</td><td>str</td><td>f64</td><td>str</td><td>f64</td><td>str</td><td>f64</td><td>str</td><td>f64</td><td>f64</td><td>f64</td><td>str</td><td>list[f64]</td><td>f64</td><td>str</td><td>f64</td><td>str</td><td>list[f64]</td><td>bool</td><td>&hellip;</td><td>bool</td><td>f64</td><td>str</td><td>bool</td><td>bool</td><td>f64</td><td>str</td><td>bool</td><td>bool</td><td>bool</td><td>f64</td><td>str</td><td>f64</td><td>str</td><td>bool</td><td>bool</td><td>bool</td><td>bool</td><td>bool</td><td>bool</td><td>f64</td><td>str</td><td>f64</td><td>str</td><td>f64</td><td>str</td><td>bool</td><td>bool</td><td>bool</td><td>bool</td><td>bool</td><td>bool</td><td>bool</td><td>f64</td><td>str</td><td>bool</td><td>bool</td></tr></thead><tbody><tr><td>&quot;9f6e2ecf-6685-45df-a62e-c2db30…</td><td>1</td><td>1</td><td>&quot;00:00:00.000&quot;</td><td>0</td><td>0</td><td>1</td><td>0.0</td><td>35</td><td>&quot;Starting XI&quot;</td><td>217</td><td>&quot;Barcelona&quot;</td><td>1</td><td>&quot;Regular Play&quot;</td><td>217</td><td>&quot;Barcelona&quot;</td><td>442.0</td><td>[{1,{20055,&quot;Marc-André ter Stegen&quot;},{1,&quot;Goalkeeper&quot;}}, {2,{6374,&quot;Nélson Cabral Semedo&quot;},{2,&quot;Right Back&quot;}}, … {10,{5503,&quot;Lionel Andrés Messi Cuccittini&quot;},{24,&quot;Left Center Forward&quot;}}]</td><td>null</td><td>null</td><td>null</td><td>null</td><td>null</td><td>null</td><td>null</td><td>null</td><td>null</td><td>null</td><td>null</td><td>null</td><td>null</td><td>null</td><td>null</td><td>null</td><td>null</td><td>null</td><td>null</td><td>&hellip;</td><td>null</td><td>null</td><td>null</td><td>null</td><td>null</td><td>null</td><td>null</td><td>null</td><td>null</td><td>null</td><td>null</td><td>null</td><td>null</td><td>null</td><td>null</td><td>null</td><td>null</td><td>null</td><td>null</td><td>null</td><td>null</td><td>null</td><td>null</td><td>null</td><td>null</td><td>null</td><td>null</td><td>null</td><td>null</td><td>null</td><td>null</td><td>null</td><td>null</td><td>null</td><td>null</td><td>null</td><td>null</td></tr></tbody></table></div>"
      ],
      "text/plain": [
       "shape: (1, 119)\n",
       "┌────────────┬───────┬────────┬────────────┬───┬────────────┬────────────┬────────────┬────────────┐\n",
       "│ id         ┆ index ┆ period ┆ timestamp  ┆ … ┆ foul_commi ┆ foul_commi ┆ pass_strai ┆ pass_goal_ │\n",
       "│ ---        ┆ ---   ┆ ---    ┆ ---        ┆   ┆ tted_type_ ┆ tted_type_ ┆ ght        ┆ assist     │\n",
       "│ str        ┆ i64   ┆ i64    ┆ str        ┆   ┆ id         ┆ name       ┆ ---        ┆ ---        │\n",
       "│            ┆       ┆        ┆            ┆   ┆ ---        ┆ ---        ┆ bool       ┆ bool       │\n",
       "│            ┆       ┆        ┆            ┆   ┆ f64        ┆ str        ┆            ┆            │\n",
       "╞════════════╪═══════╪════════╪════════════╪═══╪════════════╪════════════╪════════════╪════════════╡\n",
       "│ 9f6e2ecf-6 ┆ 1     ┆ 1      ┆ 00:00:00.0 ┆ … ┆ null       ┆ null       ┆ null       ┆ null       │\n",
       "│ 685-45df-a ┆       ┆        ┆ 00         ┆   ┆            ┆            ┆            ┆            │\n",
       "│ 62e-c2db30 ┆       ┆        ┆            ┆   ┆            ┆            ┆            ┆            │\n",
       "│ …          ┆       ┆        ┆            ┆   ┆            ┆            ┆            ┆            │\n",
       "└────────────┴───────┴────────┴────────────┴───┴────────────┴────────────┴────────────┴────────────┘"
      ]
     },
     "execution_count": 1,
     "metadata": {},
     "output_type": "execute_result"
    }
   ],
   "source": [
    "# =============================================================================\n",
    "# SETUP\n",
    "# =============================================================================\n",
    "import pandas as pd \n",
    "import polars as pl\n",
    "from utils.constants import get_open_data_dirs, get_j1_league_dirs\n",
    "\n",
    "J1_LEAGUE_DIR = get_j1_league_dirs()\n",
    "OPEN_DATA_DIR = get_open_data_dirs()\n",
    "\n",
    "\n",
    "# Loads ALL parquets in the folder as a single dataframe, lazy (doesn’t use memory until you need it)\n",
    "df = pl.scan_parquet(OPEN_DATA_DIR[\"bronze_events\"], extra_columns=\"ignore\", missing_columns=\"insert\")\n"
   ]
  },
  {
   "cell_type": "code",
   "execution_count": 10,
   "id": "89f527d0",
   "metadata": {},
   "outputs": [
    {
     "data": {
      "text/html": [
       "<div><style>\n",
       ".dataframe > thead > tr,\n",
       ".dataframe > tbody > tr {\n",
       "  text-align: right;\n",
       "  white-space: pre-wrap;\n",
       "}\n",
       "</style>\n",
       "<small>shape: (10, 3)</small><table border=\"1\" class=\"dataframe\"><thead><tr><th>clearance_left_foot</th><th>player_name</th><th>team_name</th></tr><tr><td>bool</td><td>str</td><td>str</td></tr></thead><tbody><tr><td>true</td><td>&quot;Ashley Cole&quot;</td><td>&quot;Arsenal&quot;</td></tr><tr><td>true</td><td>&quot;Kolo Habib Touré&quot;</td><td>&quot;Arsenal&quot;</td></tr><tr><td>true</td><td>&quot;Ashley Cole&quot;</td><td>&quot;Arsenal&quot;</td></tr><tr><td>true</td><td>&quot;Laureano Bisan-Etame Mayer&quot;</td><td>&quot;Arsenal&quot;</td></tr><tr><td>true</td><td>&quot;Sulzeer Jeremiah &#x27;&#x27;Sol&#x27; Campbe…</td><td>&quot;Arsenal&quot;</td></tr><tr><td>true</td><td>&quot;Ashley Cole&quot;</td><td>&quot;Arsenal&quot;</td></tr><tr><td>true</td><td>&quot;Sulzeer Jeremiah &#x27;&#x27;Sol&#x27; Campbe…</td><td>&quot;Arsenal&quot;</td></tr><tr><td>true</td><td>&quot;Sulzeer Jeremiah &#x27;&#x27;Sol&#x27; Campbe…</td><td>&quot;Arsenal&quot;</td></tr><tr><td>true</td><td>&quot;Sulzeer Jeremiah &#x27;&#x27;Sol&#x27; Campbe…</td><td>&quot;Arsenal&quot;</td></tr><tr><td>true</td><td>&quot;Ray Parlour&quot;</td><td>&quot;Arsenal&quot;</td></tr></tbody></table></div>"
      ],
      "text/plain": [
       "shape: (10, 3)\n",
       "┌─────────────────────┬─────────────────────────────────┬───────────┐\n",
       "│ clearance_left_foot ┆ player_name                     ┆ team_name │\n",
       "│ ---                 ┆ ---                             ┆ ---       │\n",
       "│ bool                ┆ str                             ┆ str       │\n",
       "╞═════════════════════╪═════════════════════════════════╪═══════════╡\n",
       "│ true                ┆ Ashley Cole                     ┆ Arsenal   │\n",
       "│ true                ┆ Kolo Habib Touré                ┆ Arsenal   │\n",
       "│ true                ┆ Ashley Cole                     ┆ Arsenal   │\n",
       "│ true                ┆ Laureano Bisan-Etame Mayer      ┆ Arsenal   │\n",
       "│ true                ┆ Sulzeer Jeremiah ''Sol' Campbe… ┆ Arsenal   │\n",
       "│ true                ┆ Ashley Cole                     ┆ Arsenal   │\n",
       "│ true                ┆ Sulzeer Jeremiah ''Sol' Campbe… ┆ Arsenal   │\n",
       "│ true                ┆ Sulzeer Jeremiah ''Sol' Campbe… ┆ Arsenal   │\n",
       "│ true                ┆ Sulzeer Jeremiah ''Sol' Campbe… ┆ Arsenal   │\n",
       "│ true                ┆ Ray Parlour                     ┆ Arsenal   │\n",
       "└─────────────────────┴─────────────────────────────────┴───────────┘"
      ]
     },
     "execution_count": 10,
     "metadata": {},
     "output_type": "execute_result"
    }
   ],
   "source": [
    "arsenal_events = (\n",
    "    df.select(\"clearance_left_foot\", \"player_name\", \"team_name\")\n",
    "      .filter(\n",
    "          (pl.col(\"clearance_left_foot\") == True) & (pl.col(\"team_name\") == \"Arsenal\")\n",
    "      )\n",
    "      .collect()\n",
    ")\n",
    "arsenal_events.head(10)"
   ]
  }
 ],
 "metadata": {
  "kernelspec": {
   "display_name": ".venv",
   "language": "python",
   "name": "python3"
  },
  "language_info": {
   "codemirror_mode": {
    "name": "ipython",
    "version": 3
   },
   "file_extension": ".py",
   "mimetype": "text/x-python",
   "name": "python",
   "nbconvert_exporter": "python",
   "pygments_lexer": "ipython3",
   "version": "3.12.11"
  }
 },
 "nbformat": 4,
 "nbformat_minor": 5
}
