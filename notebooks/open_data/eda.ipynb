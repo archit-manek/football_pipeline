{
 "cells": [
  {
   "cell_type": "code",
   "execution_count": null,
   "id": "cc378f57",
   "metadata": {},
   "outputs": [
    {
     "name": "stdout",
     "output_type": "stream",
     "text": [
      "✓ wrote /Users/architmanek/Desktop/DataEngineering/football_pipeline/data/silver/open_data/lineups/lineups_by_match.parquet\n",
      "(6928, 4)\n",
      "shape: (5, 4)\n",
      "┌─────────┬────────────────────────┬─────────────────────────────────┬──────────┐\n",
      "│ team_id ┆ team_name              ┆ lineup                          ┆ match_id │\n",
      "│ ---     ┆ ---                    ┆ ---                             ┆ ---      │\n",
      "│ i64     ┆ str                    ┆ str                             ┆ i32      │\n",
      "╞═════════╪════════════════════════╪═════════════════════════════════╪══════════╡\n",
      "│ 746     ┆ Manchester City WFC    ┆ [{\"player_id\": 4635, \"player_n… ┆ 7298     │\n",
      "│ 971     ┆ Chelsea FCW            ┆ [{\"player_id\": 4633, \"player_n… ┆ 7298     │\n",
      "│ 759     ┆ Washington Spirit      ┆ [{\"player_id\": 4940, \"player_n… ┆ 7430     │\n",
      "│ 766     ┆ North Carolina Courage ┆ [{\"player_id\": 5034, \"player_n… ┆ 7430     │\n",
      "│ 765     ┆ Portland Thorns        ┆ [{\"player_id\": 4995, \"player_n… ┆ 7443     │\n",
      "└─────────┴────────────────────────┴─────────────────────────────────┴──────────┘\n"
     ]
    }
   ],
   "source": [
    "# Build silver/open_data/lineups/lineups_by_match.parquet (all files)\n",
    "from football_pipeline.utils.constants import BRONZE_OPEN_DATA_LINEUPS_DIR, SILVER_OPEN_DATA_LINEUPS_DIR\n",
    "from pathlib import Path\n",
    "import re\n",
    "import polars as pl\n",
    "\n",
    "# paths\n",
    "bronze_lineups_dir = BRONZE_OPEN_DATA_LINEUPS_DIR\n",
    "silver_lineups_dir = SILVER_OPEN_DATA_LINEUPS_DIR\n",
    "silver_lineups_dir.mkdir(parents=True, exist_ok=True)\n",
    "out_file = silver_lineups_dir / \"lineups_by_match.parquet\"\n",
    "\n",
    "# collect rows from all lineup files (keep lineup JSON as-is)\n",
    "rx = re.compile(r\"lineups_(\\d+)\\.parquet$\", re.I)\n",
    "rows = []\n",
    "for fp in sorted(Path(bronze_lineups_dir).glob(\"lineups_*.parquet\")):\n",
    "    m = rx.search(fp.name)\n",
    "    if not m:\n",
    "        continue\n",
    "    mid = int(m.group(1))\n",
    "    df = pl.read_parquet(fp, columns=[\"team_id\", \"team_name\", \"lineup\"]).with_columns(\n",
    "        pl.lit(mid).alias(\"match_id\")\n",
    "    )\n",
    "    rows.append(df)\n",
    "\n",
    "if not rows:\n",
    "    raise RuntimeError(f\"No lineup files found in {bronze_lineups_dir}\")\n",
    "\n",
    "all_lineups = pl.concat(rows)\n",
    "# optional: drop accidental dupes\n",
    "all_lineups = all_lineups.unique([\"match_id\", \"team_id\"])\n",
    "\n",
    "all_lineups.write_parquet(out_file)\n",
    "print(f\"✓ wrote {out_file}\")\n",
    "print(all_lineups.shape)\n",
    "print(all_lineups.sort(\"match_id\").head(5))\n",
    "\n"
   ]
  }
 ],
 "metadata": {
  "kernelspec": {
   "display_name": ".venv",
   "language": "python",
   "name": "python3"
  },
  "language_info": {
   "codemirror_mode": {
    "name": "ipython",
    "version": 3
   },
   "file_extension": ".py",
   "mimetype": "text/x-python",
   "name": "python",
   "nbconvert_exporter": "python",
   "pygments_lexer": "ipython3",
   "version": "3.12.11"
  }
 },
 "nbformat": 4,
 "nbformat_minor": 5
}
