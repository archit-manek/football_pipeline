{
 "cells": [
  {
   "cell_type": "code",
   "execution_count": null,
   "id": "757747a8",
   "metadata": {},
   "outputs": [
    {
     "ename": "ModuleNotFoundError",
     "evalue": "No module named 'src'",
     "output_type": "error",
     "traceback": [
      "\u001b[31m---------------------------------------------------------------------------\u001b[39m",
      "\u001b[31mModuleNotFoundError\u001b[39m                       Traceback (most recent call last)",
      "\u001b[36mCell\u001b[39m\u001b[36m \u001b[39m\u001b[32mIn[6]\u001b[39m\u001b[32m, line 3\u001b[39m\n\u001b[32m      1\u001b[39m \u001b[38;5;28;01mfrom\u001b[39;00m\u001b[38;5;250m \u001b[39m\u001b[34;01msocceraction\u001b[39;00m\u001b[34;01m.\u001b[39;00m\u001b[34;01mdata\u001b[39;00m\u001b[34;01m.\u001b[39;00m\u001b[34;01mstatsbomb\u001b[39;00m\u001b[38;5;250m \u001b[39m\u001b[38;5;28;01mimport\u001b[39;00m StatsBombLoader\n\u001b[32m      2\u001b[39m \u001b[38;5;28;01mimport\u001b[39;00m\u001b[38;5;250m \u001b[39m\u001b[34;01msocceraction\u001b[39;00m\u001b[34;01m.\u001b[39;00m\u001b[34;01mspadl\u001b[39;00m\u001b[38;5;250m \u001b[39m\u001b[38;5;28;01mas\u001b[39;00m\u001b[38;5;250m \u001b[39m\u001b[34;01mspadl\u001b[39;00m\n\u001b[32m----> \u001b[39m\u001b[32m3\u001b[39m \u001b[38;5;28;01mfrom\u001b[39;00m\u001b[38;5;250m \u001b[39m\u001b[34;01msrc\u001b[39;00m\u001b[34;01m.\u001b[39;00m\u001b[34;01mutils\u001b[39;00m\u001b[34;01m.\u001b[39;00m\u001b[34;01mconstants\u001b[39;00m\u001b[38;5;250m \u001b[39m\u001b[38;5;28;01mimport\u001b[39;00m get_open_data_dirs\n\u001b[32m      5\u001b[39m OPEN_DATA_DIRS = get_open_data_dirs()\n\u001b[32m      6\u001b[39m datafolder = \u001b[38;5;28mstr\u001b[39m(OPEN_DATA_DIRS[\u001b[33m\"\u001b[39m\u001b[33mlanding\u001b[39m\u001b[33m\"\u001b[39m])  \u001b[38;5;66;03m# Use the landing directory\u001b[39;00m\n",
      "\u001b[31mModuleNotFoundError\u001b[39m: No module named 'src'"
     ]
    }
   ],
   "source": [
    "from socceraction.data.statsbomb import StatsBombLoader\n",
    "import socceraction.spadl as spadl\n",
    "from src.utils.constants import get_open_data_dirs\n",
    "\n",
    "OPEN_DATA_DIRS = get_open_data_dirs()\n",
    "datafolder = str(OPEN_DATA_DIRS[\"landing\"])  # Use the landing directory\n",
    "SBL = StatsBombLoader(root=datafolder, getter=\"local\")\n",
    "\n",
    "# Load the data\n",
    "events = SBL.events(7298)"
   ]
  }
 ],
 "metadata": {
  "kernelspec": {
   "display_name": ".venv",
   "language": "python",
   "name": "python3"
  },
  "language_info": {
   "codemirror_mode": {
    "name": "ipython",
    "version": 3
   },
   "file_extension": ".py",
   "mimetype": "text/x-python",
   "name": "python",
   "nbconvert_exporter": "python",
   "pygments_lexer": "ipython3",
   "version": "3.12.11"
  }
 },
 "nbformat": 4,
 "nbformat_minor": 5
}
