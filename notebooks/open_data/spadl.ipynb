{
 "cells": [
  {
   "cell_type": "code",
   "execution_count": 1,
   "id": "4d974061",
   "metadata": {},
   "outputs": [
    {
     "name": "stdout",
     "output_type": "stream",
     "text": [
      "shape: (5, 102)\n",
      "┌────────────┬───────┬────────┬────────────┬───┬────────────┬────────────┬────────────┬────────────┐\n",
      "│ id         ┆ index ┆ period ┆ timestamp  ┆ … ┆ foul_won_d ┆ bad_behavi ┆ bad_behavi ┆ ball_recov │\n",
      "│ ---        ┆ ---   ┆ ---    ┆ ---        ┆   ┆ efensive   ┆ our_card_i ┆ our_card_n ┆ ery_offens │\n",
      "│ str        ┆ i64   ┆ i64    ┆ str        ┆   ┆ ---        ┆ d          ┆ ame        ┆ ive        │\n",
      "│            ┆       ┆        ┆            ┆   ┆ bool       ┆ ---        ┆ ---        ┆ ---        │\n",
      "│            ┆       ┆        ┆            ┆   ┆            ┆ f64        ┆ str        ┆ bool       │\n",
      "╞════════════╪═══════╪════════╪════════════╪═══╪════════════╪════════════╪════════════╪════════════╡\n",
      "│ 0b483cd2-1 ┆ 1     ┆ 1      ┆ 00:00:00.0 ┆ … ┆ null       ┆ null       ┆ null       ┆ null       │\n",
      "│ d36-49a0-8 ┆       ┆        ┆ 00         ┆   ┆            ┆            ┆            ┆            │\n",
      "│ 5c2-149a9d ┆       ┆        ┆            ┆   ┆            ┆            ┆            ┆            │\n",
      "│ …          ┆       ┆        ┆            ┆   ┆            ┆            ┆            ┆            │\n",
      "│ 2c873afb-7 ┆ 2     ┆ 1      ┆ 00:00:00.0 ┆ … ┆ null       ┆ null       ┆ null       ┆ null       │\n",
      "│ 3bb-48a1-9 ┆       ┆        ┆ 00         ┆   ┆            ┆            ┆            ┆            │\n",
      "│ fd5-bfe140 ┆       ┆        ┆            ┆   ┆            ┆            ┆            ┆            │\n",
      "│ …          ┆       ┆        ┆            ┆   ┆            ┆            ┆            ┆            │\n",
      "│ 040940a1-5 ┆ 3     ┆ 1      ┆ 00:00:00.0 ┆ … ┆ null       ┆ null       ┆ null       ┆ null       │\n",
      "│ 972-431e-b ┆       ┆        ┆ 00         ┆   ┆            ┆            ┆            ┆            │\n",
      "│ 6ac-e723ed ┆       ┆        ┆            ┆   ┆            ┆            ┆            ┆            │\n",
      "│ …          ┆       ┆        ┆            ┆   ┆            ┆            ┆            ┆            │\n",
      "│ 5ba286bd-c ┆ 4     ┆ 1      ┆ 00:00:00.0 ┆ … ┆ null       ┆ null       ┆ null       ┆ null       │\n",
      "│ 397-4ac4-b ┆       ┆        ┆ 00         ┆   ┆            ┆            ┆            ┆            │\n",
      "│ 12f-6bace9 ┆       ┆        ┆            ┆   ┆            ┆            ┆            ┆            │\n",
      "│ …          ┆       ┆        ┆            ┆   ┆            ┆            ┆            ┆            │\n",
      "│ 2a456ec2-3 ┆ 5     ┆ 1      ┆ 00:00:00.1 ┆ … ┆ null       ┆ null       ┆ null       ┆ null       │\n",
      "│ 52c-499b-b ┆       ┆        ┆ 00         ┆   ┆            ┆            ┆            ┆            │\n",
      "│ 5cc-e68bf8 ┆       ┆        ┆            ┆   ┆            ┆            ┆            ┆            │\n",
      "│ …          ┆       ┆        ┆            ┆   ┆            ┆            ┆            ┆            │\n",
      "└────────────┴───────┴────────┴────────────┴───┴────────────┴────────────┴────────────┴────────────┘\n"
     ]
    }
   ],
   "source": [
    "from football_pipeline.utils.constants import DATA_DIR\n",
    "import polars as pl\n",
    "from football_pipeline.utils.constants import get_open_data_dirs\n",
    "\n",
    "OPEN_DATA_DIRS = get_open_data_dirs()\n",
    "\n",
    "events_pl = pl.read_parquet(OPEN_DATA_DIRS[\"bronze_events\"] / \"events_7298.parquet\")\n",
    "print(events_pl.head())"
   ]
  }
 ],
 "metadata": {
  "kernelspec": {
   "display_name": ".venv",
   "language": "python",
   "name": "python3"
  },
  "language_info": {
   "codemirror_mode": {
    "name": "ipython",
    "version": 3
   },
   "file_extension": ".py",
   "mimetype": "text/x-python",
   "name": "python",
   "nbconvert_exporter": "python",
   "pygments_lexer": "ipython3",
   "version": "3.12.11"
  }
 },
 "nbformat": 4,
 "nbformat_minor": 5
}
