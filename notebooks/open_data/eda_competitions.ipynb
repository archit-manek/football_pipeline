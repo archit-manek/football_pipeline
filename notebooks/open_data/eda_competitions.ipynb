{
 "cells": [
  {
   "cell_type": "code",
   "execution_count": null,
   "id": "93a9cac9",
   "metadata": {},
   "outputs": [],
   "source": [
    "# =============================================================================\n",
    "# SETUP\n",
    "# =============================================================================\n",
    "import pandas as pd\n",
    "import polars as pl\n",
    "from utils.constants import get_open_data_dirs, get_j1_league_dirs\n",
    "\n",
    "J1_LEAGUE_DIR = get_j1_league_dirs()\n",
    "OPEN_DATA_DIR = get_open_data_dirs()\n",
    "\n",
    "# Read the competitions data\n",
    "df = pl.scan_parquet(OPEN_DATA_DIR[\"bronze_competitions\"] / \"competitions.parquet\", extra_columns=\"ignore\", missing_columns=\"insert\")\n"
   ]
  },
  {
   "cell_type": "code",
   "execution_count": 16,
   "id": "c667c504",
   "metadata": {},
   "outputs": [
    {
     "name": "stdout",
     "output_type": "stream",
     "text": [
      "shape: (74, 2)\n",
      "┌────────────────────────┬─────────────┐\n",
      "│ competition_name       ┆ season_name │\n",
      "│ ---                    ┆ ---         │\n",
      "│ str                    ┆ str         │\n",
      "╞════════════════════════╪═════════════╡\n",
      "│ 1. Bundesliga          ┆ 2015/2016   │\n",
      "│ 1. Bundesliga          ┆ 2023/2024   │\n",
      "│ African Cup of Nations ┆ 2023        │\n",
      "│ Champions League       ┆ 1970/1971   │\n",
      "│ Champions League       ┆ 1971/1972   │\n",
      "│ …                      ┆ …           │\n",
      "│ UEFA Euro              ┆ 2024        │\n",
      "│ UEFA Europa League     ┆ 1988/1989   │\n",
      "│ UEFA Women's Euro      ┆ 2022        │\n",
      "│ Women's World Cup      ┆ 2019        │\n",
      "│ Women's World Cup      ┆ 2023        │\n",
      "└────────────────────────┴─────────────┘\n"
     ]
    }
   ],
   "source": [
    "competitions_summary = (\n",
    "    df.select([\"competition_name\", \"season_name\"])\n",
    "      .unique()\n",
    "      .sort([\"competition_name\", \"season_name\"])\n",
    "      .collect()\n",
    ")\n",
    "print(competitions_summary)\n"
   ]
  }
 ],
 "metadata": {
  "kernelspec": {
   "display_name": ".venv",
   "language": "python",
   "name": "python3"
  },
  "language_info": {
   "codemirror_mode": {
    "name": "ipython",
    "version": 3
   },
   "file_extension": ".py",
   "mimetype": "text/x-python",
   "name": "python",
   "nbconvert_exporter": "python",
   "pygments_lexer": "ipython3",
   "version": "3.13.5"
  }
 },
 "nbformat": 4,
 "nbformat_minor": 5
}
