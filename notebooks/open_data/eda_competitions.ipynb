{
 "cells": [
  {
   "cell_type": "code",
   "execution_count": 20,
   "id": "93a9cac9",
   "metadata": {},
   "outputs": [
    {
     "name": "stderr",
     "output_type": "stream",
     "text": [
      "/var/folders/jd/fg0l7znn3dx7wknv97vysv640000gn/T/ipykernel_34179/181830918.py:14: PerformanceWarning: Resolving the schema of a LazyFrame is a potentially expensive operation. Use `LazyFrame.collect_schema()` to get the schema without this warning.\n",
      "  silver_df.schema\n"
     ]
    },
    {
     "data": {
      "text/plain": [
       "Schema([('competition_id', Int64),\n",
       "        ('season_id', Int64),\n",
       "        ('country_name', String),\n",
       "        ('competition_name', String),\n",
       "        ('competition_gender', String),\n",
       "        ('competition_youth', Boolean),\n",
       "        ('competition_international', Boolean),\n",
       "        ('season_name', String),\n",
       "        ('match_updated', String),\n",
       "        ('match_updated_360', String),\n",
       "        ('match_available_360', String),\n",
       "        ('match_available', String)])"
      ]
     },
     "execution_count": 20,
     "metadata": {},
     "output_type": "execute_result"
    }
   ],
   "source": [
    "# =============================================================================\n",
    "# SETUP\n",
    "# =============================================================================\n",
    "import pandas as pd\n",
    "import polars as pl\n",
    "from utils.constants import get_open_data_dirs, get_j1_league_dirs\n",
    "\n",
    "J1_LEAGUE_DIR = get_j1_league_dirs()\n",
    "OPEN_DATA_DIR = get_open_data_dirs()\n",
    "\n",
    "# Read the competitions data\n",
    "bronze_df = pl.scan_parquet(OPEN_DATA_DIR[\"bronze_competitions\"] / \"competitions.parquet\", extra_columns=\"ignore\", missing_columns=\"insert\")\n",
    "silver_df = pl.scan_parquet(OPEN_DATA_DIR[\"silver_competitions\"] / \"competitions.parquet\", extra_columns=\"ignore\", missing_columns=\"insert\")\n",
    "silver_df.schema"
   ]
  },
  {
   "cell_type": "code",
   "execution_count": null,
   "id": "c667c504",
   "metadata": {},
   "outputs": [
    {
     "name": "stdout",
     "output_type": "stream",
     "text": [
      "['North American League', 'African Cup of Nations', 'UEFA Europa League', 'Liga Profesional', 'Champions League', \"FA Women's Super League\", '1. Bundesliga', 'Copa America', \"UEFA Women's Euro\", 'Serie A', 'Indian Super league', 'NWSL', 'La Liga', 'FIFA U20 World Cup', 'UEFA Euro', 'Ligue 1', \"Women's World Cup\", 'FIFA World Cup', 'Copa del Rey', 'Major League Soccer', 'Premier League']\n"
     ]
    }
   ],
   "source": [
    "# If df is a LazyFrame:\n",
    "unique_competitions = silver_df.select(\"competition_name\").unique().collect()[\"competition_name\"].to_list()\n",
    "print(unique_competitions)\n"
   ]
  }
 ],
 "metadata": {
  "kernelspec": {
   "display_name": ".venv",
   "language": "python",
   "name": "python3"
  },
  "language_info": {
   "codemirror_mode": {
    "name": "ipython",
    "version": 3
   },
   "file_extension": ".py",
   "mimetype": "text/x-python",
   "name": "python",
   "nbconvert_exporter": "python",
   "pygments_lexer": "ipython3",
   "version": "3.13.5"
  }
 },
 "nbformat": 4,
 "nbformat_minor": 5
}
