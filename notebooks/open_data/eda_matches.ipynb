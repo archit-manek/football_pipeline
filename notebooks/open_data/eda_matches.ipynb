{
 "cells": [
  {
   "cell_type": "code",
   "execution_count": 1,
   "id": "efdef39e",
   "metadata": {},
   "outputs": [],
   "source": [
    "# =============================================================================\n",
    "# SETUP\n",
    "# =============================================================================\n",
    "import pandas as pd\n",
    "import polars as pl\n",
    "from utils.constants import get_open_data_dirs, get_j1_league_dirs\n",
    "\n",
    "J1_LEAGUE_DIR = get_j1_league_dirs()\n",
    "OPEN_DATA_DIR = get_open_data_dirs()\n",
    "\n",
    "# Read the competitions data\n",
    "df = pl.scan_parquet(OPEN_DATA_DIR[\"bronze_matches\"], extra_columns=\"ignore\", missing_columns=\"insert\")\n"
   ]
  },
  {
   "cell_type": "code",
   "execution_count": null,
   "id": "2b2227da",
   "metadata": {},
   "outputs": [
    {
     "name": "stdout",
     "output_type": "stream",
     "text": [
      "Bundesliga seasons in matches: shape: (47, 2)\n",
      "┌─────────────┬────────────────────┐\n",
      "│ season_name ┆ competition_name   │\n",
      "│ ---         ┆ ---                │\n",
      "│ str         ┆ str                │\n",
      "╞═════════════╪════════════════════╡\n",
      "│ 2015/2016   ┆ 1. Bundesliga      │\n",
      "│ 2023/2024   ┆ 1. Bundesliga      │\n",
      "│ 1970/1971   ┆ Champions League   │\n",
      "│ 1971/1972   ┆ Champions League   │\n",
      "│ 1972/1973   ┆ Champions League   │\n",
      "│ …           ┆ …                  │\n",
      "│ 2020        ┆ UEFA Euro          │\n",
      "│ 2024        ┆ UEFA Euro          │\n",
      "│ 1988/1989   ┆ UEFA Europa League │\n",
      "│ 2019        ┆ Women's World Cup  │\n",
      "│ 2023        ┆ Women's World Cup  │\n",
      "└─────────────┴────────────────────┘\n"
     ]
    }
   ],
   "source": [
    "bundesliga_match_seasons = (\n",
    "    df.select(\"season_season_name\", \"competition_competition_name\")\n",
    "        .unique() \\\n",
    "        .sort([\"competition_competition_name\", \"season_season_name\"]) \\\n",
    "        .collect()\n",
    ")\n",
    "\n",
    "# Rename columns to match competitions_summary\n",
    "matches_summary = bundesliga_match_seasons.rename({\n",
    "    \"competition_competition_name\": \"competition_name\",\n",
    "    \"season_season_name\": \"season_name\"\n",
    "})\n",
    "print(\"Bundesliga seasons in matches:\", matches_summary)\n"
   ]
  }
 ],
 "metadata": {
  "kernelspec": {
   "display_name": ".venv",
   "language": "python",
   "name": "python3"
  },
  "language_info": {
   "codemirror_mode": {
    "name": "ipython",
    "version": 3
   },
   "file_extension": ".py",
   "mimetype": "text/x-python",
   "name": "python",
   "nbconvert_exporter": "python",
   "pygments_lexer": "ipython3",
   "version": "3.13.5"
  }
 },
 "nbformat": 4,
 "nbformat_minor": 5
}
