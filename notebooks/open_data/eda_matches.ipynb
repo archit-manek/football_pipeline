{
 "cells": [
  {
   "cell_type": "code",
   "execution_count": 14,
   "id": "efdef39e",
   "metadata": {},
   "outputs": [
    {
     "name": "stderr",
     "output_type": "stream",
     "text": [
      "/var/folders/jd/fg0l7znn3dx7wknv97vysv640000gn/T/ipykernel_41107/3635553553.py:13: PerformanceWarning: Resolving the schema of a LazyFrame is a potentially expensive operation. Use `LazyFrame.collect_schema()` to get the schema without this warning.\n",
      "  df.schema\n"
     ]
    },
    {
     "data": {
      "text/plain": [
       "Schema([('match_id', Int64),\n",
       "        ('match_date', String),\n",
       "        ('kick_off', String),\n",
       "        ('home_score', Int64),\n",
       "        ('away_score', Int64),\n",
       "        ('match_status', String),\n",
       "        ('match_status_360', String),\n",
       "        ('last_updated', String),\n",
       "        ('last_updated_360', String),\n",
       "        ('match_week', Int64),\n",
       "        ('competition_competition_id', Int64),\n",
       "        ('competition_country_name', String),\n",
       "        ('competition_competition_name', String),\n",
       "        ('season_season_id', Int64),\n",
       "        ('season_season_name', String),\n",
       "        ('home_team_home_team_id', Int64),\n",
       "        ('home_team_home_team_name', String),\n",
       "        ('home_team_home_team_gender', String),\n",
       "        ('home_team_home_team_group', String),\n",
       "        ('home_team_country_id', Int64),\n",
       "        ('home_team_country_name', String),\n",
       "        ('home_team_managers',\n",
       "         List(Struct({'country': Struct({'id': Int64, 'name': String}), 'dob': String, 'id': Int64, 'name': String, 'nickname': String}))),\n",
       "        ('away_team_away_team_id', Int64),\n",
       "        ('away_team_away_team_name', String),\n",
       "        ('away_team_away_team_gender', String),\n",
       "        ('away_team_away_team_group', String),\n",
       "        ('away_team_country_id', Int64),\n",
       "        ('away_team_country_name', String),\n",
       "        ('away_team_managers',\n",
       "         List(Struct({'country': Struct({'id': Int64, 'name': String}), 'dob': String, 'id': Int64, 'name': String, 'nickname': String}))),\n",
       "        ('metadata_data_version', String),\n",
       "        ('metadata_shot_fidelity_version', String),\n",
       "        ('metadata_xy_fidelity_version', String),\n",
       "        ('competition_stage_id', Int64),\n",
       "        ('competition_stage_name', String),\n",
       "        ('stadium_id', Int64),\n",
       "        ('stadium_name', String),\n",
       "        ('stadium_country_id', Int64),\n",
       "        ('stadium_country_name', String),\n",
       "        ('referee_id', Float64),\n",
       "        ('referee_name', String),\n",
       "        ('referee_country_id', Float64),\n",
       "        ('referee_country_name', String)])"
      ]
     },
     "execution_count": 14,
     "metadata": {},
     "output_type": "execute_result"
    }
   ],
   "source": [
    "# =============================================================================\n",
    "# SETUP\n",
    "# =============================================================================\n",
    "import pandas as pd\n",
    "import polars as pl\n",
    "from utils.constants import get_open_data_dirs, get_j1_league_dirs\n",
    "\n",
    "J1_LEAGUE_DIR = get_j1_league_dirs()\n",
    "OPEN_DATA_DIR = get_open_data_dirs()\n",
    "\n",
    "# Read the competitions data\n",
    "df = pl.scan_parquet(OPEN_DATA_DIR[\"bronze_matches\"], extra_columns=\"ignore\", missing_columns=\"insert\")\n",
    "df.schema\n"
   ]
  },
  {
   "cell_type": "code",
   "execution_count": null,
   "id": "2b2227da",
   "metadata": {},
   "outputs": [
    {
     "name": "stdout",
     "output_type": "stream",
     "text": [
      "Bundesliga seasons in matches: shape: (47, 2)\n",
      "┌─────────────┬────────────────────┐\n",
      "│ season_name ┆ competition_name   │\n",
      "│ ---         ┆ ---                │\n",
      "│ str         ┆ str                │\n",
      "╞═════════════╪════════════════════╡\n",
      "│ 2015/2016   ┆ 1. Bundesliga      │\n",
      "│ 2023/2024   ┆ 1. Bundesliga      │\n",
      "│ 1970/1971   ┆ Champions League   │\n",
      "│ 1971/1972   ┆ Champions League   │\n",
      "│ 1972/1973   ┆ Champions League   │\n",
      "│ …           ┆ …                  │\n",
      "│ 2020        ┆ UEFA Euro          │\n",
      "│ 2024        ┆ UEFA Euro          │\n",
      "│ 1988/1989   ┆ UEFA Europa League │\n",
      "│ 2019        ┆ Women's World Cup  │\n",
      "│ 2023        ┆ Women's World Cup  │\n",
      "└─────────────┴────────────────────┘\n"
     ]
    }
   ],
   "source": [
    "bundesliga_match_seasons = (\n",
    "    df.select(\"season_season_name\", \"competition_competition_name\")\n",
    "        .unique() \\\n",
    "        .sort([\"competition_competition_name\", \"season_season_name\"]) \\\n",
    "        .collect()\n",
    ")\n",
    "\n",
    "# Rename columns to match competitions_summary\n",
    "matches_summary = bundesliga_match_seasons.rename({\n",
    "    \"competition_competition_name\": \"competition_name\",\n",
    "    \"season_season_name\": \"season_name\"\n",
    "})\n",
    "print(\"Bundesliga seasons in matches:\", matches_summary)\n"
   ]
  }
 ],
 "metadata": {
  "kernelspec": {
   "display_name": ".venv",
   "language": "python",
   "name": "python3"
  },
  "language_info": {
   "codemirror_mode": {
    "name": "ipython",
    "version": 3
   },
   "file_extension": ".py",
   "mimetype": "text/x-python",
   "name": "python",
   "nbconvert_exporter": "python",
   "pygments_lexer": "ipython3",
   "version": "3.13.5"
  }
 },
 "nbformat": 4,
 "nbformat_minor": 5
}
