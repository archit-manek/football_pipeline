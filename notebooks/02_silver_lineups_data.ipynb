{
 "cells": [
  {
   "cell_type": "code",
   "execution_count": 3,
   "id": "ede4c634",
   "metadata": {},
   "outputs": [],
   "source": [
    "# =============================================================================\n",
    "# SETUP\n",
    "# =============================================================================\n",
    "import sys\n",
    "import polars as pl\n",
    "\n",
    "# Add project root to Python path\n",
    "sys.path.insert(0, '/Users/architmanek/Desktop/DataEngineering/football_pipeline')\n",
    "\n",
    "# Now imports work without changing working directory\n",
    "from utils.constants import ABS_PATH, BRONZE_DIR_LINEUPS, SILVER_DIR_LINEUPS\n",
    "\n",
    "file_path = ABS_PATH / SILVER_DIR_LINEUPS / \"lineups_15946.parquet\"\n",
    "df = pl.read_parquet(file_path)\n"
   ]
  },
  {
   "cell_type": "code",
   "execution_count": 6,
   "id": "1816b88d",
   "metadata": {},
   "outputs": [
    {
     "data": {
      "text/plain": [
       "['player_id',\n",
       " 'player_name',\n",
       " 'player_nickname',\n",
       " 'jersey_number',\n",
       " 'cards',\n",
       " 'positions',\n",
       " 'match_id',\n",
       " 'team_id',\n",
       " 'country_id',\n",
       " 'country_name']"
      ]
     },
     "execution_count": 6,
     "metadata": {},
     "output_type": "execute_result"
    }
   ],
   "source": [
    "df.columns"
   ]
  }
 ],
 "metadata": {
  "kernelspec": {
   "display_name": ".venv",
   "language": "python",
   "name": "python3"
  },
  "language_info": {
   "codemirror_mode": {
    "name": "ipython",
    "version": 3
   },
   "file_extension": ".py",
   "mimetype": "text/x-python",
   "name": "python",
   "nbconvert_exporter": "python",
   "pygments_lexer": "ipython3",
   "version": "3.13.5"
  }
 },
 "nbformat": 4,
 "nbformat_minor": 5
}
