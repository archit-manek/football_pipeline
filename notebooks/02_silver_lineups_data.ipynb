{
 "cells": [
  {
   "cell_type": "code",
   "execution_count": 9,
   "id": "ede4c634",
   "metadata": {},
   "outputs": [],
   "source": [
    "# =============================================================================\n",
    "# SETUP\n",
    "# =============================================================================\n",
    "import sys\n",
    "import polars as pl\n",
    "\n",
    "# Add project root to Python path\n",
    "sys.path.insert(0, '/Users/architmanek/Desktop/DataEngineering/football_pipeline')\n",
    "\n",
    "# Now imports work without changing working directory\n",
    "from utils.constants import ABS_PATH, BRONZE_DIR_LINEUPS, SILVER_DIR_LINEUPS\n",
    "\n",
    "file_path = ABS_PATH / SILVER_DIR_LINEUPS / \"lineups_15946.parquet\"\n",
    "df = pl.read_parquet(file_path)\n"
   ]
  },
  {
   "cell_type": "code",
   "execution_count": 10,
   "id": "1816b88d",
   "metadata": {},
   "outputs": [
    {
     "data": {
      "text/html": [
       "<div><style>\n",
       ".dataframe > thead > tr,\n",
       ".dataframe > tbody > tr {\n",
       "  text-align: right;\n",
       "  white-space: pre-wrap;\n",
       "}\n",
       "</style>\n",
       "<small>shape: (5, 20)</small><table border=\"1\" class=\"dataframe\"><thead><tr><th>player_id</th><th>player_name</th><th>player_nickname</th><th>jersey_number</th><th>match_id</th><th>team_id</th><th>country_id</th><th>country_name</th><th>cards_time</th><th>cards_card_type</th><th>cards_reason</th><th>cards_period</th><th>positions_position_id</th><th>positions_position</th><th>positions_from</th><th>positions_to</th><th>positions_from_period</th><th>positions_to_period</th><th>positions_start_reason</th><th>positions_end_reason</th></tr><tr><td>i64</td><td>str</td><td>str</td><td>i64</td><td>str</td><td>i64</td><td>i64</td><td>str</td><td>str</td><td>str</td><td>str</td><td>i64</td><td>i64</td><td>str</td><td>str</td><td>str</td><td>i64</td><td>i64</td><td>str</td><td>str</td></tr></thead><tbody><tr><td>3109</td><td>&quot;Malcom Filipe Silva de Oliveir…</td><td>&quot;Malcom&quot;</td><td>14</td><td>&quot;15946&quot;</td><td>217</td><td>31</td><td>&quot;Brazil&quot;</td><td>null</td><td>null</td><td>null</td><td>null</td><td>null</td><td>null</td><td>null</td><td>null</td><td>null</td><td>null</td><td>null</td><td>null</td></tr><tr><td>3501</td><td>&quot;Philippe Coutinho Correia&quot;</td><td>&quot;Philippe Coutinho&quot;</td><td>7</td><td>&quot;15946&quot;</td><td>217</td><td>31</td><td>&quot;Brazil&quot;</td><td>null</td><td>null</td><td>null</td><td>null</td><td>15</td><td>&quot;Left Center Midfield&quot;</td><td>&quot;45:00&quot;</td><td>&quot;45:00&quot;</td><td>2</td><td>2</td><td>&quot;Tactical Shift&quot;</td><td>&quot;Substitution - On (Tactical)&quot;</td></tr><tr><td>3501</td><td>&quot;Philippe Coutinho Correia&quot;</td><td>&quot;Philippe Coutinho&quot;</td><td>7</td><td>&quot;15946&quot;</td><td>217</td><td>31</td><td>&quot;Brazil&quot;</td><td>null</td><td>null</td><td>null</td><td>null</td><td>2</td><td>&quot;Right Back&quot;</td><td>&quot;45:00&quot;</td><td>&quot;76:14&quot;</td><td>2</td><td>2</td><td>&quot;Substitution - On (Tactical)&quot;</td><td>&quot;Tactical Shift&quot;</td></tr><tr><td>3501</td><td>&quot;Philippe Coutinho Correia&quot;</td><td>&quot;Philippe Coutinho&quot;</td><td>7</td><td>&quot;15946&quot;</td><td>217</td><td>31</td><td>&quot;Brazil&quot;</td><td>null</td><td>null</td><td>null</td><td>null</td><td>21</td><td>&quot;Left Wing&quot;</td><td>&quot;76:14&quot;</td><td>null</td><td>2</td><td>null</td><td>&quot;Tactical Shift&quot;</td><td>&quot;Final Whistle&quot;</td></tr><tr><td>5203</td><td>&quot;Sergio Busquets i Burgos&quot;</td><td>&quot;Sergio Busquets&quot;</td><td>5</td><td>&quot;15946&quot;</td><td>217</td><td>214</td><td>&quot;Spain&quot;</td><td>null</td><td>null</td><td>null</td><td>null</td><td>9</td><td>&quot;Right Defensive Midfield&quot;</td><td>&quot;00:00&quot;</td><td>&quot;45:00&quot;</td><td>1</td><td>2</td><td>&quot;Starting XI&quot;</td><td>&quot;Tactical Shift&quot;</td></tr></tbody></table></div>"
      ],
      "text/plain": [
       "shape: (5, 20)\n",
       "┌───────────┬───────────┬───────────┬───────────┬───┬───────────┬───────────┬───────────┬──────────┐\n",
       "│ player_id ┆ player_na ┆ player_ni ┆ jersey_nu ┆ … ┆ positions ┆ positions ┆ positions ┆ position │\n",
       "│ ---       ┆ me        ┆ ckname    ┆ mber      ┆   ┆ _from_per ┆ _to_perio ┆ _start_re ┆ s_end_re │\n",
       "│ i64       ┆ ---       ┆ ---       ┆ ---       ┆   ┆ iod       ┆ d         ┆ ason      ┆ ason     │\n",
       "│           ┆ str       ┆ str       ┆ i64       ┆   ┆ ---       ┆ ---       ┆ ---       ┆ ---      │\n",
       "│           ┆           ┆           ┆           ┆   ┆ i64       ┆ i64       ┆ str       ┆ str      │\n",
       "╞═══════════╪═══════════╪═══════════╪═══════════╪═══╪═══════════╪═══════════╪═══════════╪══════════╡\n",
       "│ 3109      ┆ Malcom    ┆ Malcom    ┆ 14        ┆ … ┆ null      ┆ null      ┆ null      ┆ null     │\n",
       "│           ┆ Filipe    ┆           ┆           ┆   ┆           ┆           ┆           ┆          │\n",
       "│           ┆ Silva de  ┆           ┆           ┆   ┆           ┆           ┆           ┆          │\n",
       "│           ┆ Oliveir…  ┆           ┆           ┆   ┆           ┆           ┆           ┆          │\n",
       "│ 3501      ┆ Philippe  ┆ Philippe  ┆ 7         ┆ … ┆ 2         ┆ 2         ┆ Tactical  ┆ Substitu │\n",
       "│           ┆ Coutinho  ┆ Coutinho  ┆           ┆   ┆           ┆           ┆ Shift     ┆ tion -   │\n",
       "│           ┆ Correia   ┆           ┆           ┆   ┆           ┆           ┆           ┆ On (Tact │\n",
       "│           ┆           ┆           ┆           ┆   ┆           ┆           ┆           ┆ ical)    │\n",
       "│ 3501      ┆ Philippe  ┆ Philippe  ┆ 7         ┆ … ┆ 2         ┆ 2         ┆ Substitut ┆ Tactical │\n",
       "│           ┆ Coutinho  ┆ Coutinho  ┆           ┆   ┆           ┆           ┆ ion - On  ┆ Shift    │\n",
       "│           ┆ Correia   ┆           ┆           ┆   ┆           ┆           ┆ (Tactical ┆          │\n",
       "│           ┆           ┆           ┆           ┆   ┆           ┆           ┆ )         ┆          │\n",
       "│ 3501      ┆ Philippe  ┆ Philippe  ┆ 7         ┆ … ┆ 2         ┆ null      ┆ Tactical  ┆ Final    │\n",
       "│           ┆ Coutinho  ┆ Coutinho  ┆           ┆   ┆           ┆           ┆ Shift     ┆ Whistle  │\n",
       "│           ┆ Correia   ┆           ┆           ┆   ┆           ┆           ┆           ┆          │\n",
       "│ 5203      ┆ Sergio    ┆ Sergio    ┆ 5         ┆ … ┆ 1         ┆ 2         ┆ Starting  ┆ Tactical │\n",
       "│           ┆ Busquets  ┆ Busquets  ┆           ┆   ┆           ┆           ┆ XI        ┆ Shift    │\n",
       "│           ┆ i Burgos  ┆           ┆           ┆   ┆           ┆           ┆           ┆          │\n",
       "└───────────┴───────────┴───────────┴───────────┴───┴───────────┴───────────┴───────────┴──────────┘"
      ]
     },
     "execution_count": 10,
     "metadata": {},
     "output_type": "execute_result"
    }
   ],
   "source": [
    "df.head(5)"
   ]
  }
 ],
 "metadata": {
  "kernelspec": {
   "display_name": ".venv",
   "language": "python",
   "name": "python3"
  },
  "language_info": {
   "codemirror_mode": {
    "name": "ipython",
    "version": 3
   },
   "file_extension": ".py",
   "mimetype": "text/x-python",
   "name": "python",
   "nbconvert_exporter": "python",
   "pygments_lexer": "ipython3",
   "version": "3.13.5"
  }
 },
 "nbformat": 4,
 "nbformat_minor": 5
}
