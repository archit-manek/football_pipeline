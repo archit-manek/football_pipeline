{
 "cells": [
  {
   "cell_type": "code",
   "execution_count": 23,
   "id": "53afe498",
   "metadata": {},
   "outputs": [
    {
     "name": "stdout",
     "output_type": "stream",
     "text": [
      "['Date', 'Close_AAPL', 'High_AAPL', 'Low_AAPL', 'Open_AAPL', 'Volume_AAPL', 'daily_log_return', 'momentum_20d', 'forward_10d_return', 'is_candidate']\n"
     ]
    },
    {
     "data": {
      "text/html": [
       "<div><style>\n",
       ".dataframe > thead > tr,\n",
       ".dataframe > tbody > tr {\n",
       "  text-align: right;\n",
       "  white-space: pre-wrap;\n",
       "}\n",
       "</style>\n",
       "<small>shape: (100, 10)</small><table border=\"1\" class=\"dataframe\"><thead><tr><th>Date</th><th>Close_AAPL</th><th>High_AAPL</th><th>Low_AAPL</th><th>Open_AAPL</th><th>Volume_AAPL</th><th>daily_log_return</th><th>momentum_20d</th><th>forward_10d_return</th><th>is_candidate</th></tr><tr><td>datetime[ns]</td><td>f64</td><td>f64</td><td>f64</td><td>f64</td><td>i64</td><td>f64</td><td>f64</td><td>f64</td><td>bool</td></tr></thead><tbody><tr><td>2015-01-02 00:00:00</td><td>24.288574</td><td>24.757328</td><td>23.8487</td><td>24.74622</td><td>212818400</td><td>null</td><td>null</td><td>-0.031026</td><td>null</td></tr><tr><td>2015-01-05 00:00:00</td><td>23.60433</td><td>24.137511</td><td>23.417718</td><td>24.057533</td><td>257142000</td><td>-0.028576</td><td>null</td><td>0.022981</td><td>null</td></tr><tr><td>2015-01-06 00:00:00</td><td>23.606556</td><td>23.866481</td><td>23.244437</td><td>23.66876</td><td>263188400</td><td>0.000094</td><td>null</td><td>0.030492</td><td>null</td></tr><tr><td>2015-01-07 00:00:00</td><td>23.937569</td><td>24.037539</td><td>23.704302</td><td>23.815381</td><td>160423600</td><td>0.013925</td><td>null</td><td>0.04225</td><td>null</td></tr><tr><td>2015-01-08 00:00:00</td><td>24.857306</td><td>24.915067</td><td>24.14862</td><td>24.266365</td><td>237458000</td><td>0.037703</td><td>null</td><td>0.009695</td><td>null</td></tr><tr><td>&hellip;</td><td>&hellip;</td><td>&hellip;</td><td>&hellip;</td><td>&hellip;</td><td>&hellip;</td><td>&hellip;</td><td>&hellip;</td><td>&hellip;</td><td>&hellip;</td></tr><tr><td>2015-05-20 00:00:00</td><td>29.129124</td><td>29.335173</td><td>28.967867</td><td>29.115686</td><td>145819600</td><td>-0.000077</td><td>0.015302</td><td>-0.005396</td><td>false</td></tr><tr><td>2015-05-21 00:00:00</td><td>29.427</td><td>29.480753</td><td>29.077612</td><td>29.131366</td><td>158921600</td><td>0.010174</td><td>0.017346</td><td>-0.021074</td><td>false</td></tr><tr><td>2015-05-22 00:00:00</td><td>29.684565</td><td>29.780872</td><td>29.429243</td><td>29.474039</td><td>182384000</td><td>0.008715</td><td>0.021367</td><td>-0.036418</td><td>false</td></tr><tr><td>2015-05-26 00:00:00</td><td>29.030579</td><td>29.767431</td><td>28.918595</td><td>29.698002</td><td>282790400</td><td>-0.022277</td><td>-0.018938</td><td>-0.017118</td><td>false</td></tr><tr><td>2015-05-27 00:00:00</td><td>29.572588</td><td>29.621861</td><td>29.126896</td><td>29.191845</td><td>183332800</td><td>0.018498</td><td>0.015441</td><td>-0.024223</td><td>false</td></tr></tbody></table></div>"
      ],
      "text/plain": [
       "shape: (100, 10)\n",
       "┌───────────┬───────────┬───────────┬───────────┬───┬───────────┬───────────┬───────────┬──────────┐\n",
       "│ Date      ┆ Close_AAP ┆ High_AAPL ┆ Low_AAPL  ┆ … ┆ daily_log ┆ momentum_ ┆ forward_1 ┆ is_candi │\n",
       "│ ---       ┆ L         ┆ ---       ┆ ---       ┆   ┆ _return   ┆ 20d       ┆ 0d_return ┆ date     │\n",
       "│ datetime[ ┆ ---       ┆ f64       ┆ f64       ┆   ┆ ---       ┆ ---       ┆ ---       ┆ ---      │\n",
       "│ ns]       ┆ f64       ┆           ┆           ┆   ┆ f64       ┆ f64       ┆ f64       ┆ bool     │\n",
       "╞═══════════╪═══════════╪═══════════╪═══════════╪═══╪═══════════╪═══════════╪═══════════╪══════════╡\n",
       "│ 2015-01-0 ┆ 24.288574 ┆ 24.757328 ┆ 23.8487   ┆ … ┆ null      ┆ null      ┆ -0.031026 ┆ null     │\n",
       "│ 2         ┆           ┆           ┆           ┆   ┆           ┆           ┆           ┆          │\n",
       "│ 00:00:00  ┆           ┆           ┆           ┆   ┆           ┆           ┆           ┆          │\n",
       "│ 2015-01-0 ┆ 23.60433  ┆ 24.137511 ┆ 23.417718 ┆ … ┆ -0.028576 ┆ null      ┆ 0.022981  ┆ null     │\n",
       "│ 5         ┆           ┆           ┆           ┆   ┆           ┆           ┆           ┆          │\n",
       "│ 00:00:00  ┆           ┆           ┆           ┆   ┆           ┆           ┆           ┆          │\n",
       "│ 2015-01-0 ┆ 23.606556 ┆ 23.866481 ┆ 23.244437 ┆ … ┆ 0.000094  ┆ null      ┆ 0.030492  ┆ null     │\n",
       "│ 6         ┆           ┆           ┆           ┆   ┆           ┆           ┆           ┆          │\n",
       "│ 00:00:00  ┆           ┆           ┆           ┆   ┆           ┆           ┆           ┆          │\n",
       "│ 2015-01-0 ┆ 23.937569 ┆ 24.037539 ┆ 23.704302 ┆ … ┆ 0.013925  ┆ null      ┆ 0.04225   ┆ null     │\n",
       "│ 7         ┆           ┆           ┆           ┆   ┆           ┆           ┆           ┆          │\n",
       "│ 00:00:00  ┆           ┆           ┆           ┆   ┆           ┆           ┆           ┆          │\n",
       "│ 2015-01-0 ┆ 24.857306 ┆ 24.915067 ┆ 24.14862  ┆ … ┆ 0.037703  ┆ null      ┆ 0.009695  ┆ null     │\n",
       "│ 8         ┆           ┆           ┆           ┆   ┆           ┆           ┆           ┆          │\n",
       "│ 00:00:00  ┆           ┆           ┆           ┆   ┆           ┆           ┆           ┆          │\n",
       "│ …         ┆ …         ┆ …         ┆ …         ┆ … ┆ …         ┆ …         ┆ …         ┆ …        │\n",
       "│ 2015-05-2 ┆ 29.129124 ┆ 29.335173 ┆ 28.967867 ┆ … ┆ -0.000077 ┆ 0.015302  ┆ -0.005396 ┆ false    │\n",
       "│ 0         ┆           ┆           ┆           ┆   ┆           ┆           ┆           ┆          │\n",
       "│ 00:00:00  ┆           ┆           ┆           ┆   ┆           ┆           ┆           ┆          │\n",
       "│ 2015-05-2 ┆ 29.427    ┆ 29.480753 ┆ 29.077612 ┆ … ┆ 0.010174  ┆ 0.017346  ┆ -0.021074 ┆ false    │\n",
       "│ 1         ┆           ┆           ┆           ┆   ┆           ┆           ┆           ┆          │\n",
       "│ 00:00:00  ┆           ┆           ┆           ┆   ┆           ┆           ┆           ┆          │\n",
       "│ 2015-05-2 ┆ 29.684565 ┆ 29.780872 ┆ 29.429243 ┆ … ┆ 0.008715  ┆ 0.021367  ┆ -0.036418 ┆ false    │\n",
       "│ 2         ┆           ┆           ┆           ┆   ┆           ┆           ┆           ┆          │\n",
       "│ 00:00:00  ┆           ┆           ┆           ┆   ┆           ┆           ┆           ┆          │\n",
       "│ 2015-05-2 ┆ 29.030579 ┆ 29.767431 ┆ 28.918595 ┆ … ┆ -0.022277 ┆ -0.018938 ┆ -0.017118 ┆ false    │\n",
       "│ 6         ┆           ┆           ┆           ┆   ┆           ┆           ┆           ┆          │\n",
       "│ 00:00:00  ┆           ┆           ┆           ┆   ┆           ┆           ┆           ┆          │\n",
       "│ 2015-05-2 ┆ 29.572588 ┆ 29.621861 ┆ 29.126896 ┆ … ┆ 0.018498  ┆ 0.015441  ┆ -0.024223 ┆ false    │\n",
       "│ 7         ┆           ┆           ┆           ┆   ┆           ┆           ┆           ┆          │\n",
       "│ 00:00:00  ┆           ┆           ┆           ┆   ┆           ┆           ┆           ┆          │\n",
       "└───────────┴───────────┴───────────┴───────────┴───┴───────────┴───────────┴───────────┴──────────┘"
      ]
     },
     "execution_count": 23,
     "metadata": {},
     "output_type": "execute_result"
    }
   ],
   "source": [
    "import polars as pl\n",
    "import re\n",
    "\n",
    "# Load the Bronze layer for AAPL\n",
    "df = pl.read_parquet(\"/Users/architmanek/Desktop/DataEngineering/momentum_pipeline/data/gold/AAPL_momentum.parquet\")\n",
    "\n",
    "# Preview the shape and schema\n",
    "# print(df.shape)\n",
    "# print(df.schema)\n",
    "\n",
    "# Look at the first few rows\n",
    "print(df.columns)\n",
    "df.head(100)\n"
   ]
  },
  {
   "cell_type": "code",
   "execution_count": 19,
   "id": "620c3c08",
   "metadata": {},
   "outputs": [
    {
     "name": "stderr",
     "output_type": "stream",
     "text": [
      "[*********************100%***********************]  1 of 1 completed"
     ]
    },
    {
     "name": "stdout",
     "output_type": "stream",
     "text": [
      "Index(['Date', 'Close_AAPL', 'High_AAPL', 'Low_AAPL', 'Open_AAPL',\n",
      "       'Volume_AAPL'],\n",
      "      dtype='object')\n",
      "shape: (10, 6)\n",
      "┌─────────────────────┬────────────┬───────────┬───────────┬───────────┬─────────────┐\n",
      "│ Date                ┆ Close_AAPL ┆ High_AAPL ┆ Low_AAPL  ┆ Open_AAPL ┆ Volume_AAPL │\n",
      "│ ---                 ┆ ---        ┆ ---       ┆ ---       ┆ ---       ┆ ---         │\n",
      "│ datetime[ns]        ┆ f64        ┆ f64       ┆ f64       ┆ f64       ┆ i64         │\n",
      "╞═════════════════════╪════════════╪═══════════╪═══════════╪═══════════╪═════════════╡\n",
      "│ 2015-01-02 00:00:00 ┆ 24.288578  ┆ 24.757332 ┆ 23.848704 ┆ 24.746224 ┆ 212818400   │\n",
      "│ 2015-01-05 00:00:00 ┆ 23.604336  ┆ 24.137516 ┆ 23.417723 ┆ 24.057539 ┆ 257142000   │\n",
      "│ 2015-01-06 00:00:00 ┆ 23.606562  ┆ 23.866487 ┆ 23.244442 ┆ 23.668766 ┆ 263188400   │\n",
      "│ 2015-01-07 00:00:00 ┆ 23.937572  ┆ 24.037543 ┆ 23.704305 ┆ 23.815385 ┆ 160423600   │\n",
      "│ 2015-01-08 00:00:00 ┆ 24.857304  ┆ 24.915065 ┆ 24.148618 ┆ 24.266363 ┆ 237458000   │\n",
      "│ 2015-01-09 00:00:00 ┆ 24.883965  ┆ 25.15944  ┆ 24.484079 ┆ 25.030588 ┆ 214798000   │\n",
      "│ 2015-01-12 00:00:00 ┆ 24.270805  ┆ 25.0217   ┆ 24.170835 ┆ 25.015036 ┆ 198603200   │\n",
      "│ 2015-01-13 00:00:00 ┆ 24.486303  ┆ 25.059473 ┆ 24.195276 ┆ 24.755115 ┆ 268367600   │\n",
      "│ 2015-01-14 00:00:00 ┆ 24.393     ┆ 24.546288 ┆ 24.104193 ┆ 24.224159 ┆ 195826400   │\n",
      "│ 2015-01-15 00:00:00 ┆ 23.730967  ┆ 24.45076  ┆ 23.695422 ┆ 24.437431 ┆ 240056000   │\n",
      "└─────────────────────┴────────────┴───────────┴───────────┴───────────┴─────────────┘\n"
     ]
    },
    {
     "name": "stderr",
     "output_type": "stream",
     "text": [
      "\n"
     ]
    }
   ],
   "source": [
    "from dagster import asset\n",
    "import yfinance as yf\n",
    "import polars as pl\n",
    "from pathlib import Path\n",
    "import pandas as pd\n",
    "\n",
    "TICKER = \"AAPL\"\n",
    "START_DATE = \"2015-01-01\"\n",
    "END_DATE = \"2025-01-01\"\n",
    "\n",
    "df = yf.download(TICKER, start=START_DATE, end=END_DATE)\n",
    "if isinstance(df.columns, pd.MultiIndex):\n",
    "        df.columns = ['_'.join(filter(None, col)).strip() for col in df.columns]\n",
    "df.reset_index(inplace=True)\n",
    "print(df.columns)\n",
    "pl_df = pl.from_pandas(df)\n",
    "\n",
    "print(pl_df.head(10))"
   ]
  },
  {
   "cell_type": "code",
   "execution_count": null,
   "id": "2cb391fd",
   "metadata": {},
   "outputs": [],
   "source": []
  }
 ],
 "metadata": {
  "kernelspec": {
   "display_name": ".venv",
   "language": "python",
   "name": "python3"
  },
  "language_info": {
   "codemirror_mode": {
    "name": "ipython",
    "version": 3
   },
   "file_extension": ".py",
   "mimetype": "text/x-python",
   "name": "python",
   "nbconvert_exporter": "python",
   "pygments_lexer": "ipython3",
   "version": "3.13.3"
  }
 },
 "nbformat": 4,
 "nbformat_minor": 5
}
