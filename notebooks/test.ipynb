{
 "cells": [
  {
   "cell_type": "code",
   "execution_count": 4,
   "id": "53afe498",
   "metadata": {},
   "outputs": [
    {
     "name": "stdout",
     "output_type": "stream",
     "text": [
      "(2516, 6)\n",
      "Schema({\"('Date', '')\": Datetime(time_unit='ns', time_zone=None), \"('Close', 'AAPL')\": Float64, \"('High', 'AAPL')\": Float64, \"('Low', 'AAPL')\": Float64, \"('Open', 'AAPL')\": Float64, \"('Volume', 'AAPL')\": Int64})\n"
     ]
    },
    {
     "data": {
      "text/html": [
       "<div><style>\n",
       ".dataframe > thead > tr,\n",
       ".dataframe > tbody > tr {\n",
       "  text-align: right;\n",
       "  white-space: pre-wrap;\n",
       "}\n",
       "</style>\n",
       "<small>shape: (10, 6)</small><table border=\"1\" class=\"dataframe\"><thead><tr><th>(&#x27;Date&#x27;, &#x27;&#x27;)</th><th>(&#x27;Close&#x27;, &#x27;AAPL&#x27;)</th><th>(&#x27;High&#x27;, &#x27;AAPL&#x27;)</th><th>(&#x27;Low&#x27;, &#x27;AAPL&#x27;)</th><th>(&#x27;Open&#x27;, &#x27;AAPL&#x27;)</th><th>(&#x27;Volume&#x27;, &#x27;AAPL&#x27;)</th></tr><tr><td>datetime[ns]</td><td>f64</td><td>f64</td><td>f64</td><td>f64</td><td>i64</td></tr></thead><tbody><tr><td>2015-01-02 00:00:00</td><td>24.288578</td><td>24.757332</td><td>23.848704</td><td>24.746224</td><td>212818400</td></tr><tr><td>2015-01-05 00:00:00</td><td>23.604332</td><td>24.137513</td><td>23.41772</td><td>24.057535</td><td>257142000</td></tr><tr><td>2015-01-06 00:00:00</td><td>23.606558</td><td>23.866483</td><td>23.244438</td><td>23.668762</td><td>263188400</td></tr><tr><td>2015-01-07 00:00:00</td><td>23.937571</td><td>24.037541</td><td>23.704304</td><td>23.815383</td><td>160423600</td></tr><tr><td>2015-01-08 00:00:00</td><td>24.857309</td><td>24.915071</td><td>24.148623</td><td>24.266369</td><td>237458000</td></tr><tr><td>2015-01-09 00:00:00</td><td>24.883968</td><td>25.159444</td><td>24.484082</td><td>25.030592</td><td>214798000</td></tr><tr><td>2015-01-12 00:00:00</td><td>24.270803</td><td>25.021698</td><td>24.170833</td><td>25.015034</td><td>198603200</td></tr><tr><td>2015-01-13 00:00:00</td><td>24.4863</td><td>25.059469</td><td>24.195273</td><td>24.755111</td><td>268367600</td></tr><tr><td>2015-01-14 00:00:00</td><td>24.392996</td><td>24.546284</td><td>24.104189</td><td>24.224155</td><td>195826400</td></tr><tr><td>2015-01-15 00:00:00</td><td>23.730959</td><td>24.450752</td><td>23.695414</td><td>24.437423</td><td>240056000</td></tr></tbody></table></div>"
      ],
      "text/plain": [
       "shape: (10, 6)\n",
       "┌──────────────┬───────────┬───────────┬─────────────────┬───────────┬────────────────────┐\n",
       "│ ('Date', '') ┆ ('Close', ┆ ('High',  ┆ ('Low', 'AAPL') ┆ ('Open',  ┆ ('Volume', 'AAPL') │\n",
       "│ ---          ┆ 'AAPL')   ┆ 'AAPL')   ┆ ---             ┆ 'AAPL')   ┆ ---                │\n",
       "│ datetime[ns] ┆ ---       ┆ ---       ┆ f64             ┆ ---       ┆ i64                │\n",
       "│              ┆ f64       ┆ f64       ┆                 ┆ f64       ┆                    │\n",
       "╞══════════════╪═══════════╪═══════════╪═════════════════╪═══════════╪════════════════════╡\n",
       "│ 2015-01-02   ┆ 24.288578 ┆ 24.757332 ┆ 23.848704       ┆ 24.746224 ┆ 212818400          │\n",
       "│ 00:00:00     ┆           ┆           ┆                 ┆           ┆                    │\n",
       "│ 2015-01-05   ┆ 23.604332 ┆ 24.137513 ┆ 23.41772        ┆ 24.057535 ┆ 257142000          │\n",
       "│ 00:00:00     ┆           ┆           ┆                 ┆           ┆                    │\n",
       "│ 2015-01-06   ┆ 23.606558 ┆ 23.866483 ┆ 23.244438       ┆ 23.668762 ┆ 263188400          │\n",
       "│ 00:00:00     ┆           ┆           ┆                 ┆           ┆                    │\n",
       "│ 2015-01-07   ┆ 23.937571 ┆ 24.037541 ┆ 23.704304       ┆ 23.815383 ┆ 160423600          │\n",
       "│ 00:00:00     ┆           ┆           ┆                 ┆           ┆                    │\n",
       "│ 2015-01-08   ┆ 24.857309 ┆ 24.915071 ┆ 24.148623       ┆ 24.266369 ┆ 237458000          │\n",
       "│ 00:00:00     ┆           ┆           ┆                 ┆           ┆                    │\n",
       "│ 2015-01-09   ┆ 24.883968 ┆ 25.159444 ┆ 24.484082       ┆ 25.030592 ┆ 214798000          │\n",
       "│ 00:00:00     ┆           ┆           ┆                 ┆           ┆                    │\n",
       "│ 2015-01-12   ┆ 24.270803 ┆ 25.021698 ┆ 24.170833       ┆ 25.015034 ┆ 198603200          │\n",
       "│ 00:00:00     ┆           ┆           ┆                 ┆           ┆                    │\n",
       "│ 2015-01-13   ┆ 24.4863   ┆ 25.059469 ┆ 24.195273       ┆ 24.755111 ┆ 268367600          │\n",
       "│ 00:00:00     ┆           ┆           ┆                 ┆           ┆                    │\n",
       "│ 2015-01-14   ┆ 24.392996 ┆ 24.546284 ┆ 24.104189       ┆ 24.224155 ┆ 195826400          │\n",
       "│ 00:00:00     ┆           ┆           ┆                 ┆           ┆                    │\n",
       "│ 2015-01-15   ┆ 23.730959 ┆ 24.450752 ┆ 23.695414       ┆ 24.437423 ┆ 240056000          │\n",
       "│ 00:00:00     ┆           ┆           ┆                 ┆           ┆                    │\n",
       "└──────────────┴───────────┴───────────┴─────────────────┴───────────┴────────────────────┘"
      ]
     },
     "execution_count": 4,
     "metadata": {},
     "output_type": "execute_result"
    }
   ],
   "source": [
    "import polars as pl\n",
    "\n",
    "# Load the Bronze layer for AAPL\n",
    "df = pl.read_parquet(\"/Users/architmanek/Desktop/DataEngineering/momentum_pipeline/data/bronze/AAPL.parquet\")\n",
    "\n",
    "# Preview the shape and schema\n",
    "print(df.shape)\n",
    "print(df.schema)\n",
    "\n",
    "# Look at the first few rows\n",
    "df.head(10)"
   ]
  }
 ],
 "metadata": {
  "kernelspec": {
   "display_name": ".venv",
   "language": "python",
   "name": "python3"
  },
  "language_info": {
   "codemirror_mode": {
    "name": "ipython",
    "version": 3
   },
   "file_extension": ".py",
   "mimetype": "text/x-python",
   "name": "python",
   "nbconvert_exporter": "python",
   "pygments_lexer": "ipython3",
   "version": "3.13.3"
  }
 },
 "nbformat": 4,
 "nbformat_minor": 5
}
