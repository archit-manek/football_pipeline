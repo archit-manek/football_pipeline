{
 "cells": [
  {
   "cell_type": "code",
   "execution_count": 20,
   "id": "53afe498",
   "metadata": {},
   "outputs": [
    {
     "name": "stdout",
     "output_type": "stream",
     "text": [
      "['Date', 'Close_AAPL', 'High_AAPL', 'Low_AAPL', 'Open_AAPL', 'Volume_AAPL', 'daily_log_return']\n"
     ]
    },
    {
     "data": {
      "text/html": [
       "<div><style>\n",
       ".dataframe > thead > tr,\n",
       ".dataframe > tbody > tr {\n",
       "  text-align: right;\n",
       "  white-space: pre-wrap;\n",
       "}\n",
       "</style>\n",
       "<small>shape: (10, 7)</small><table border=\"1\" class=\"dataframe\"><thead><tr><th>Date</th><th>Close_AAPL</th><th>High_AAPL</th><th>Low_AAPL</th><th>Open_AAPL</th><th>Volume_AAPL</th><th>daily_log_return</th></tr><tr><td>datetime[ns]</td><td>f64</td><td>f64</td><td>f64</td><td>f64</td><td>i64</td><td>f64</td></tr></thead><tbody><tr><td>2015-01-02 00:00:00</td><td>24.288584</td><td>24.757338</td><td>23.848709</td><td>24.74623</td><td>212818400</td><td>null</td></tr><tr><td>2015-01-05 00:00:00</td><td>23.604328</td><td>24.137509</td><td>23.417716</td><td>24.057531</td><td>257142000</td><td>-0.028576</td></tr><tr><td>2015-01-06 00:00:00</td><td>23.606558</td><td>23.866483</td><td>23.244438</td><td>23.668762</td><td>263188400</td><td>0.000094</td></tr><tr><td>2015-01-07 00:00:00</td><td>23.937571</td><td>24.037541</td><td>23.704304</td><td>23.815383</td><td>160423600</td><td>0.013925</td></tr><tr><td>2015-01-08 00:00:00</td><td>24.857306</td><td>24.915067</td><td>24.14862</td><td>24.266365</td><td>237458000</td><td>0.037702</td></tr><tr><td>2015-01-09 00:00:00</td><td>24.883966</td><td>25.159442</td><td>24.484081</td><td>25.03059</td><td>214798000</td><td>0.001072</td></tr><tr><td>2015-01-12 00:00:00</td><td>24.270809</td><td>25.021704</td><td>24.170839</td><td>25.01504</td><td>198603200</td><td>-0.024949</td></tr><tr><td>2015-01-13 00:00:00</td><td>24.486301</td><td>25.059471</td><td>24.195274</td><td>24.755113</td><td>268367600</td><td>0.008839</td></tr><tr><td>2015-01-14 00:00:00</td><td>24.392996</td><td>24.546284</td><td>24.104189</td><td>24.224155</td><td>195826400</td><td>-0.003818</td></tr><tr><td>2015-01-15 00:00:00</td><td>23.730967</td><td>24.45076</td><td>23.695422</td><td>24.437431</td><td>240056000</td><td>-0.027515</td></tr></tbody></table></div>"
      ],
      "text/plain": [
       "shape: (10, 7)\n",
       "┌──────────────┬────────────┬───────────┬───────────┬───────────┬─────────────┬────────────────────┐\n",
       "│ Date         ┆ Close_AAPL ┆ High_AAPL ┆ Low_AAPL  ┆ Open_AAPL ┆ Volume_AAPL ┆ daily_log_return   │\n",
       "│ ---          ┆ ---        ┆ ---       ┆ ---       ┆ ---       ┆ ---         ┆ ---                │\n",
       "│ datetime[ns] ┆ f64        ┆ f64       ┆ f64       ┆ f64       ┆ i64         ┆ f64                │\n",
       "╞══════════════╪════════════╪═══════════╪═══════════╪═══════════╪═════════════╪════════════════════╡\n",
       "│ 2015-01-02   ┆ 24.288584  ┆ 24.757338 ┆ 23.848709 ┆ 24.74623  ┆ 212818400   ┆ null               │\n",
       "│ 00:00:00     ┆            ┆           ┆           ┆           ┆             ┆                    │\n",
       "│ 2015-01-05   ┆ 23.604328  ┆ 24.137509 ┆ 23.417716 ┆ 24.057531 ┆ 257142000   ┆ -0.028576          │\n",
       "│ 00:00:00     ┆            ┆           ┆           ┆           ┆             ┆                    │\n",
       "│ 2015-01-06   ┆ 23.606558  ┆ 23.866483 ┆ 23.244438 ┆ 23.668762 ┆ 263188400   ┆ 0.000094           │\n",
       "│ 00:00:00     ┆            ┆           ┆           ┆           ┆             ┆                    │\n",
       "│ 2015-01-07   ┆ 23.937571  ┆ 24.037541 ┆ 23.704304 ┆ 23.815383 ┆ 160423600   ┆ 0.013925           │\n",
       "│ 00:00:00     ┆            ┆           ┆           ┆           ┆             ┆                    │\n",
       "│ 2015-01-08   ┆ 24.857306  ┆ 24.915067 ┆ 24.14862  ┆ 24.266365 ┆ 237458000   ┆ 0.037702           │\n",
       "│ 00:00:00     ┆            ┆           ┆           ┆           ┆             ┆                    │\n",
       "│ 2015-01-09   ┆ 24.883966  ┆ 25.159442 ┆ 24.484081 ┆ 25.03059  ┆ 214798000   ┆ 0.001072           │\n",
       "│ 00:00:00     ┆            ┆           ┆           ┆           ┆             ┆                    │\n",
       "│ 2015-01-12   ┆ 24.270809  ┆ 25.021704 ┆ 24.170839 ┆ 25.01504  ┆ 198603200   ┆ -0.024949          │\n",
       "│ 00:00:00     ┆            ┆           ┆           ┆           ┆             ┆                    │\n",
       "│ 2015-01-13   ┆ 24.486301  ┆ 25.059471 ┆ 24.195274 ┆ 24.755113 ┆ 268367600   ┆ 0.008839           │\n",
       "│ 00:00:00     ┆            ┆           ┆           ┆           ┆             ┆                    │\n",
       "│ 2015-01-14   ┆ 24.392996  ┆ 24.546284 ┆ 24.104189 ┆ 24.224155 ┆ 195826400   ┆ -0.003818          │\n",
       "│ 00:00:00     ┆            ┆           ┆           ┆           ┆             ┆                    │\n",
       "│ 2015-01-15   ┆ 23.730967  ┆ 24.45076  ┆ 23.695422 ┆ 24.437431 ┆ 240056000   ┆ -0.027515          │\n",
       "│ 00:00:00     ┆            ┆           ┆           ┆           ┆             ┆                    │\n",
       "└──────────────┴────────────┴───────────┴───────────┴───────────┴─────────────┴────────────────────┘"
      ]
     },
     "execution_count": 20,
     "metadata": {},
     "output_type": "execute_result"
    }
   ],
   "source": [
    "import polars as pl\n",
    "import re\n",
    "\n",
    "# Load the Bronze layer for AAPL\n",
    "df = pl.read_parquet(\"/Users/architmanek/Desktop/DataEngineering/momentum_pipeline/data/silver/AAPL.parquet\")\n",
    "\n",
    "# Preview the shape and schema\n",
    "# print(df.shape)\n",
    "# print(df.schema)\n",
    "\n",
    "# Look at the first few rows\n",
    "print(df.columns)\n",
    "df.head(10)\n"
   ]
  },
  {
   "cell_type": "code",
   "execution_count": 19,
   "id": "620c3c08",
   "metadata": {},
   "outputs": [
    {
     "name": "stderr",
     "output_type": "stream",
     "text": [
      "[*********************100%***********************]  1 of 1 completed"
     ]
    },
    {
     "name": "stdout",
     "output_type": "stream",
     "text": [
      "Index(['Date', 'Close_AAPL', 'High_AAPL', 'Low_AAPL', 'Open_AAPL',\n",
      "       'Volume_AAPL'],\n",
      "      dtype='object')\n",
      "shape: (10, 6)\n",
      "┌─────────────────────┬────────────┬───────────┬───────────┬───────────┬─────────────┐\n",
      "│ Date                ┆ Close_AAPL ┆ High_AAPL ┆ Low_AAPL  ┆ Open_AAPL ┆ Volume_AAPL │\n",
      "│ ---                 ┆ ---        ┆ ---       ┆ ---       ┆ ---       ┆ ---         │\n",
      "│ datetime[ns]        ┆ f64        ┆ f64       ┆ f64       ┆ f64       ┆ i64         │\n",
      "╞═════════════════════╪════════════╪═══════════╪═══════════╪═══════════╪═════════════╡\n",
      "│ 2015-01-02 00:00:00 ┆ 24.288578  ┆ 24.757332 ┆ 23.848704 ┆ 24.746224 ┆ 212818400   │\n",
      "│ 2015-01-05 00:00:00 ┆ 23.604336  ┆ 24.137516 ┆ 23.417723 ┆ 24.057539 ┆ 257142000   │\n",
      "│ 2015-01-06 00:00:00 ┆ 23.606562  ┆ 23.866487 ┆ 23.244442 ┆ 23.668766 ┆ 263188400   │\n",
      "│ 2015-01-07 00:00:00 ┆ 23.937572  ┆ 24.037543 ┆ 23.704305 ┆ 23.815385 ┆ 160423600   │\n",
      "│ 2015-01-08 00:00:00 ┆ 24.857304  ┆ 24.915065 ┆ 24.148618 ┆ 24.266363 ┆ 237458000   │\n",
      "│ 2015-01-09 00:00:00 ┆ 24.883965  ┆ 25.15944  ┆ 24.484079 ┆ 25.030588 ┆ 214798000   │\n",
      "│ 2015-01-12 00:00:00 ┆ 24.270805  ┆ 25.0217   ┆ 24.170835 ┆ 25.015036 ┆ 198603200   │\n",
      "│ 2015-01-13 00:00:00 ┆ 24.486303  ┆ 25.059473 ┆ 24.195276 ┆ 24.755115 ┆ 268367600   │\n",
      "│ 2015-01-14 00:00:00 ┆ 24.393     ┆ 24.546288 ┆ 24.104193 ┆ 24.224159 ┆ 195826400   │\n",
      "│ 2015-01-15 00:00:00 ┆ 23.730967  ┆ 24.45076  ┆ 23.695422 ┆ 24.437431 ┆ 240056000   │\n",
      "└─────────────────────┴────────────┴───────────┴───────────┴───────────┴─────────────┘\n"
     ]
    },
    {
     "name": "stderr",
     "output_type": "stream",
     "text": [
      "\n"
     ]
    }
   ],
   "source": [
    "from dagster import asset\n",
    "import yfinance as yf\n",
    "import polars as pl\n",
    "from pathlib import Path\n",
    "import pandas as pd\n",
    "\n",
    "TICKER = \"AAPL\"\n",
    "START_DATE = \"2015-01-01\"\n",
    "END_DATE = \"2025-01-01\"\n",
    "\n",
    "df = yf.download(TICKER, start=START_DATE, end=END_DATE)\n",
    "if isinstance(df.columns, pd.MultiIndex):\n",
    "        df.columns = ['_'.join(filter(None, col)).strip() for col in df.columns]\n",
    "df.reset_index(inplace=True)\n",
    "print(df.columns)\n",
    "pl_df = pl.from_pandas(df)\n",
    "\n",
    "print(pl_df.head(10))"
   ]
  },
  {
   "cell_type": "code",
   "execution_count": null,
   "id": "2cb391fd",
   "metadata": {},
   "outputs": [],
   "source": []
  }
 ],
 "metadata": {
  "kernelspec": {
   "display_name": ".venv",
   "language": "python",
   "name": "python3"
  },
  "language_info": {
   "codemirror_mode": {
    "name": "ipython",
    "version": 3
   },
   "file_extension": ".py",
   "mimetype": "text/x-python",
   "name": "python",
   "nbconvert_exporter": "python",
   "pygments_lexer": "ipython3",
   "version": "3.13.3"
  }
 },
 "nbformat": 4,
 "nbformat_minor": 5
}
