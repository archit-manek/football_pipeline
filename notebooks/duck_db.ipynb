{
 "cells": [
  {
   "cell_type": "code",
   "execution_count": 58,
   "id": "40730416",
   "metadata": {},
   "outputs": [],
   "source": [
    "import os\n",
    "import duckdb\n",
    "BASE_DIR = os.path.abspath(\"..\")  # project root\n",
    "MATCHES_PATH = os.path.join(BASE_DIR, \"data/bronze/matches/*.parquet\")\n",
    "COMPETITIONS_PATH = os.path.join(BASE_DIR, \"data/bronze/competitions/*.parquet\")\n",
    "EVENTS_PATH = os.path.join(BASE_DIR, \"data/silver/events/*.parquet\")"
   ]
  },
  {
   "cell_type": "code",
   "execution_count": 57,
   "id": "f465f97f",
   "metadata": {},
   "outputs": [
    {
     "name": "stdout",
     "output_type": "stream",
     "text": [
      "      timestamp\n",
      "0  00:00:00.000\n",
      "1  00:00:00.000\n",
      "2  00:00:00.000\n",
      "3  00:00:00.000\n",
      "4  00:00:00.575\n",
      "5  00:00:02.591\n",
      "6  00:00:02.591\n",
      "7  00:00:03.864\n",
      "8  00:00:07.152\n",
      "9  00:00:07.152\n"
     ]
    }
   ],
   "source": [
    "df = duckdb.query(f'SELECT timestamp FROM \"{EVENTS_PATH}\" LIMIT 50').to_df()\n",
    "print(df.head(10))"
   ]
  },
  {
   "cell_type": "code",
   "execution_count": null,
   "id": "1e1eb42f",
   "metadata": {},
   "outputs": [
    {
     "name": "stdout",
     "output_type": "stream",
     "text": [
      "              team_name  possession_event_count  possession_pass_count  \\\n",
      "0           Arsenal WFC                       4                    NaN   \n",
      "1   West Ham United LFC                       4                    NaN   \n",
      "2           Arsenal WFC                       4                    NaN   \n",
      "3   West Ham United LFC                       4                    NaN   \n",
      "4           Arsenal WFC                      33                    9.0   \n",
      "5           Arsenal WFC                      33                    9.0   \n",
      "6           Arsenal WFC                      33                    9.0   \n",
      "7           Arsenal WFC                      33                    9.0   \n",
      "8           Arsenal WFC                      33                    9.0   \n",
      "9           Arsenal WFC                      33                    9.0   \n",
      "10          Arsenal WFC                      33                    9.0   \n",
      "11          Arsenal WFC                      33                    9.0   \n",
      "12          Arsenal WFC                      33                    9.0   \n",
      "13          Arsenal WFC                      33                    9.0   \n",
      "14          Arsenal WFC                      33                    9.0   \n",
      "15          Arsenal WFC                      33                    9.0   \n",
      "16          Arsenal WFC                      33                    9.0   \n",
      "17          Arsenal WFC                      33                    9.0   \n",
      "18          Arsenal WFC                      33                    9.0   \n",
      "19          Arsenal WFC                      33                    9.0   \n",
      "\n",
      "    possession_player_count  possession_duration  possession_ended_with_shot  \\\n",
      "0                         0                0.000                       False   \n",
      "1                         0                0.000                       False   \n",
      "2                         0                0.000                       False   \n",
      "3                         0                0.000                       False   \n",
      "4                        10               29.119                        True   \n",
      "5                        10               29.119                        True   \n",
      "6                        10               29.119                        True   \n",
      "7                        10               29.119                        True   \n",
      "8                        10               29.119                        True   \n",
      "9                        10               29.119                        True   \n",
      "10                       10               29.119                        True   \n",
      "11                       10               29.119                        True   \n",
      "12                       10               29.119                        True   \n",
      "13                       10               29.119                        True   \n",
      "14                       10               29.119                        True   \n",
      "15                       10               29.119                        True   \n",
      "16                       10               29.119                        True   \n",
      "17                       10               29.119                        True   \n",
      "18                       10               29.119                        True   \n",
      "19                       10               29.119                        True   \n",
      "\n",
      "    possession_xg  \n",
      "0        0.000000  \n",
      "1        0.000000  \n",
      "2        0.000000  \n",
      "3        0.000000  \n",
      "4        0.302778  \n",
      "5        0.302778  \n",
      "6        0.302778  \n",
      "7        0.302778  \n",
      "8        0.302778  \n",
      "9        0.302778  \n",
      "10       0.302778  \n",
      "11       0.302778  \n",
      "12       0.302778  \n",
      "13       0.302778  \n",
      "14       0.302778  \n",
      "15       0.302778  \n",
      "16       0.302778  \n",
      "17       0.302778  \n",
      "18       0.302778  \n",
      "19       0.302778  \n"
     ]
    }
   ],
   "source": [
    "\n",
    "import pandas as pd\n",
    "import numpy as np\n",
    "import matplotlib.pyplot as plt\n",
    "\n",
    "# Load a silver parquet file using the same path pattern as above\n",
    "df = pd.read_parquet(EVENTS_PATH.replace('*', 'events_9855'))\n",
    "\n",
    "# Filter for passes with valid end locations\n",
    "passes = df[df['pass_length_calc'].notnull()]\n",
    "\n",
    "# Pick a few random passes to inspect\n",
    "sample = passes.sample(5, random_state=42)\n",
    "\n",
    "for idx, row in sample.iterrows():\n",
    "    print(f\"Start: ({row['x']:.2f}, {row['y']:.2f}), End: ({row['end_x']:.2f}, {row['end_y']:.2f})\")\n",
    "    print(f\"Angle (deg): {np.degrees(row['pass_angle_calc']):.2f}, Direction: {row['pass_direction_calc']}\")\n",
    "    print('-' * 40)\n",
    "\n",
    "# Visualize one pass\n",
    "row = sample.iloc[0]\n",
    "plt.figure(figsize=(6, 4))\n",
    "plt.plot([row['x'], row['end_x']], [row['y'], row['end_y']], marker='o')\n",
    "plt.xlim(0, 1)\n",
    "plt.ylim(0, 1)\n",
    "plt.title(f\"Angle: {np.degrees(row['pass_angle_calc']):.2f}°, Direction: {row['pass_direction_calc']}\")\n",
    "plt.xlabel('Normalized X')\n",
    "plt.ylabel('Normalized Y')\n",
    "plt.show()"
   ]
  }
 ],
 "metadata": {
  "kernelspec": {
   "display_name": ".venv",
   "language": "python",
   "name": "python3"
  },
  "language_info": {
   "codemirror_mode": {
    "name": "ipython",
    "version": 3
   },
   "file_extension": ".py",
   "mimetype": "text/x-python",
   "name": "python",
   "nbconvert_exporter": "python",
   "pygments_lexer": "ipython3",
   "version": "3.13.5"
  }
 },
 "nbformat": 4,
 "nbformat_minor": 5
}
