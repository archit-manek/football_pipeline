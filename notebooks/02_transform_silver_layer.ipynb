{
 "cells": [
  {
   "cell_type": "code",
   "execution_count": 1,
   "id": "240e3431",
   "metadata": {},
   "outputs": [],
   "source": [
    "# =============================================================================\n",
    "# SETUP\n",
    "# =============================================================================\n",
    "import sys\n",
    "from pathlib import Path\n",
    "import polars as pl\n",
    "import logging\n",
    "import numpy as np\n",
    "\n",
    "# Add project root to Python path\n",
    "sys.path.insert(0, '/Users/architmanek/Desktop/DataEngineering/football_pipeline')\n",
    "\n",
    "# Now imports work without changing working directory\n",
    "from utils.config import ABS_PATH, BRONZE_DIR_EVENTS\n",
    "\n",
    "file_path = ABS_PATH / BRONZE_DIR_EVENTS / \"events_15946.parquet\"\n",
    "df = pl.read_parquet(file_path)"
   ]
  },
  {
   "cell_type": "code",
   "execution_count": 2,
   "id": "fd200d69",
   "metadata": {},
   "outputs": [],
   "source": [
    "# =============================================================================\n",
    "# TEST 1: COLUMN FLATTENING\n",
    "# =============================================================================\n",
    "def test_flatten_columns(df):\n",
    "    df.columns = [col.replace('.', '_') for col in df.columns]\n",
    "    return df"
   ]
  },
  {
   "cell_type": "code",
   "execution_count": 3,
   "id": "8326adf1",
   "metadata": {},
   "outputs": [
    {
     "name": "stdout",
     "output_type": "stream",
     "text": [
      "Columns with periods: ['type.id', 'type.name', 'possession_team.id', 'possession_team.name', 'play_pattern.id', 'play_pattern.name', 'team.id', 'team.name', 'tactics.formation', 'tactics.lineup', 'player.id', 'player.name', 'position.id', 'position.name', 'pass.recipient.id', 'pass.recipient.name', 'pass.length', 'pass.angle', 'pass.height.id', 'pass.height.name', 'pass.end_location', 'pass.body_part.id', 'pass.body_part.name', 'pass.type.id', 'pass.type.name', 'carry.end_location', 'pass.switch', 'pass.outcome.id', 'pass.outcome.name', 'ball_receipt.outcome.id', 'ball_receipt.outcome.name', 'duel.type.id', 'duel.type.name', 'pass.aerial_won', 'interception.outcome.id', 'interception.outcome.name', 'ball_recovery.recovery_failure', 'pass.assisted_shot_id', 'pass.shot_assist', 'shot.statsbomb_xg', 'shot.end_location', 'shot.key_pass_id', 'shot.outcome.id', 'shot.outcome.name', 'shot.first_time', 'shot.technique.id', 'shot.technique.name', 'shot.body_part.id', 'shot.body_part.name', 'shot.type.id', 'shot.type.name', 'shot.freeze_frame', 'goalkeeper.end_location', 'goalkeeper.type.id', 'goalkeeper.type.name', 'goalkeeper.position.id', 'goalkeeper.position.name', 'pass.cross', 'goalkeeper.outcome.id', 'goalkeeper.outcome.name', 'clearance.left_foot', 'clearance.body_part.id', 'clearance.body_part.name', 'block.deflection', 'duel.outcome.id', 'duel.outcome.name', 'dribble.nutmeg', 'dribble.outcome.id', 'dribble.outcome.name', 'foul_committed.offensive', 'foul_committed.card.id', 'foul_committed.card.name', 'foul_won.defensive', 'pass.through_ball', 'pass.technique.id', 'pass.technique.name', 'clearance.right_foot', 'pass.inswinging', 'goalkeeper.technique.id', 'goalkeeper.technique.name', 'goalkeeper.body_part.id', 'goalkeeper.body_part.name', 'clearance.head', 'shot.aerial_won', 'miscontrol.aerial_won', 'dribble.overrun', 'pass.miscommunication', 'block.offensive', 'bad_behaviour.card.id', 'bad_behaviour.card.name', 'substitution.outcome.id', 'substitution.outcome.name', 'substitution.replacement.id', 'substitution.replacement.name', 'pass.cut_back', 'shot.one_on_one', 'foul_committed.advantage', 'foul_won.advantage', 'clearance.aerial_won', 'pass.deflected', 'pass.no_touch', 'foul_committed.type.id', 'foul_committed.type.name', 'pass.straight', 'pass.goal_assist']\n",
      "Number of columns with periods: 105\n",
      "Columns with periods: []\n",
      "Number of columns with periods: 0\n"
     ]
    }
   ],
   "source": [
    "# Find columns with periods\n",
    "columns_with_periods = [col for col in df.columns if '.' in col]\n",
    "print(f\"Columns with periods: {columns_with_periods}\")\n",
    "print(f\"Number of columns with periods: {len(columns_with_periods)}\")\n",
    "\n",
    "# Test flatten_columns\n",
    "df = test_flatten_columns(df)\n",
    "\n",
    "columns_with_periods = [col for col in df.columns if '.' in col]\n",
    "print(f\"Columns with periods: {columns_with_periods}\")\n",
    "print(f\"Number of columns with periods: {len(columns_with_periods)}\")\n"
   ]
  },
  {
   "cell_type": "code",
   "execution_count": 8,
   "id": "1e50920b",
   "metadata": {},
   "outputs": [],
   "source": [
    "# =============================================================================\n",
    "# TEST 2: ENRICH LOCATIONS\n",
    "# =============================================================================\n",
    "def enrich_locations(df):\n",
    "    df = df.with_columns([\n",
    "        pl.col(\"location\").cast(pl.List(pl.Float64)).alias(\"location\"),\n",
    "        pl.col(\"pass_end_location\").cast(pl.List(pl.Float64)).alias(\"pass_end_location\"),\n",
    "    ])\n",
    "    df = df.with_columns([\n",
    "        (pl.col(\"location\").arr.get(0) / 120).alias(\"x\"),\n",
    "        (pl.col(\"location\").arr.get(1) / 80).alias(\"y\"),\n",
    "        pl.when(pl.col(\"type_name\") == \"Pass\")\n",
    "          .then(pl.col(\"pass_end_location\").arr.get(0) / 120)\n",
    "          .otherwise(None)\n",
    "          .alias(\"end_x\"),\n",
    "        pl.when(pl.col(\"type_name\") == \"Pass\")\n",
    "          .then(pl.col(\"pass_end_location\").arr.get(1) / 80)\n",
    "          .otherwise(None)\n",
    "          .alias(\"end_y\"),\n",
    "    ])\n",
    "    return df"
   ]
  },
  {
   "cell_type": "code",
   "execution_count": 9,
   "id": "b713b129",
   "metadata": {},
   "outputs": [
    {
     "ename": "SchemaError",
     "evalue": "invalid series dtype: expected `Array`, got `list[f64]` for series with name `location`",
     "output_type": "error",
     "traceback": [
      "\u001b[31m---------------------------------------------------------------------------\u001b[39m",
      "\u001b[31mSchemaError\u001b[39m                               Traceback (most recent call last)",
      "\u001b[36mCell\u001b[39m\u001b[36m \u001b[39m\u001b[32mIn[9]\u001b[39m\u001b[32m, line 6\u001b[39m\n\u001b[32m      1\u001b[39m \u001b[38;5;66;03m# Test enrich_locations (which tests normalize functions internally)\u001b[39;00m\n\u001b[32m      2\u001b[39m \u001b[38;5;66;03m# print(\"Before enriching:\")\u001b[39;00m\n\u001b[32m      3\u001b[39m \u001b[38;5;66;03m# print(f\"Has x column: {'x' in df.columns}\")\u001b[39;00m\n\u001b[32m      4\u001b[39m \u001b[38;5;66;03m# print(f\"Has y column: {'y' in df.columns}\")\u001b[39;00m\n\u001b[32m----> \u001b[39m\u001b[32m6\u001b[39m df_enriched = \u001b[43menrich_locations\u001b[49m\u001b[43m(\u001b[49m\u001b[43mdf\u001b[49m\u001b[43m)\u001b[49m\n\u001b[32m      7\u001b[39m \u001b[38;5;66;03m# df['location'].dtype\u001b[39;00m\n\u001b[32m      8\u001b[39m \n\u001b[32m      9\u001b[39m \u001b[38;5;66;03m# print(\"\\nAfter enriching:\")\u001b[39;00m\n\u001b[32m   (...)\u001b[39m\u001b[32m     15\u001b[39m \u001b[38;5;66;03m# print(f\"\\nSample normalized coordinates:\")\u001b[39;00m\n\u001b[32m     16\u001b[39m \u001b[38;5;66;03m# print(sample_coords)\u001b[39;00m\n\u001b[32m     18\u001b[39m \u001b[38;5;28mprint\u001b[39m(df_enriched[[\u001b[33m\"\u001b[39m\u001b[33mlocation\u001b[39m\u001b[33m\"\u001b[39m, \u001b[33m\"\u001b[39m\u001b[33mx\u001b[39m\u001b[33m\"\u001b[39m, \u001b[33m\"\u001b[39m\u001b[33my\u001b[39m\u001b[33m\"\u001b[39m]].head())\n",
      "\u001b[36mCell\u001b[39m\u001b[36m \u001b[39m\u001b[32mIn[8]\u001b[39m\u001b[32m, line 9\u001b[39m, in \u001b[36menrich_locations\u001b[39m\u001b[34m(df)\u001b[39m\n\u001b[32m      4\u001b[39m \u001b[38;5;28;01mdef\u001b[39;00m\u001b[38;5;250m \u001b[39m\u001b[34menrich_locations\u001b[39m(df):\n\u001b[32m      5\u001b[39m     df = df.with_columns([\n\u001b[32m      6\u001b[39m         pl.col(\u001b[33m\"\u001b[39m\u001b[33mlocation\u001b[39m\u001b[33m\"\u001b[39m).cast(pl.List(pl.Float64)).alias(\u001b[33m\"\u001b[39m\u001b[33mlocation\u001b[39m\u001b[33m\"\u001b[39m),\n\u001b[32m      7\u001b[39m         pl.col(\u001b[33m\"\u001b[39m\u001b[33mpass_end_location\u001b[39m\u001b[33m\"\u001b[39m).cast(pl.List(pl.Float64)).alias(\u001b[33m\"\u001b[39m\u001b[33mpass_end_location\u001b[39m\u001b[33m\"\u001b[39m),\n\u001b[32m      8\u001b[39m     ])\n\u001b[32m----> \u001b[39m\u001b[32m9\u001b[39m     df = \u001b[43mdf\u001b[49m\u001b[43m.\u001b[49m\u001b[43mwith_columns\u001b[49m\u001b[43m(\u001b[49m\u001b[43m[\u001b[49m\n\u001b[32m     10\u001b[39m \u001b[43m        \u001b[49m\u001b[43m(\u001b[49m\u001b[43mpl\u001b[49m\u001b[43m.\u001b[49m\u001b[43mcol\u001b[49m\u001b[43m(\u001b[49m\u001b[33;43m\"\u001b[39;49m\u001b[33;43mlocation\u001b[39;49m\u001b[33;43m\"\u001b[39;49m\u001b[43m)\u001b[49m\u001b[43m.\u001b[49m\u001b[43marr\u001b[49m\u001b[43m.\u001b[49m\u001b[43mget\u001b[49m\u001b[43m(\u001b[49m\u001b[32;43m0\u001b[39;49m\u001b[43m)\u001b[49m\u001b[43m \u001b[49m\u001b[43m/\u001b[49m\u001b[43m \u001b[49m\u001b[32;43m120\u001b[39;49m\u001b[43m)\u001b[49m\u001b[43m.\u001b[49m\u001b[43malias\u001b[49m\u001b[43m(\u001b[49m\u001b[33;43m\"\u001b[39;49m\u001b[33;43mx\u001b[39;49m\u001b[33;43m\"\u001b[39;49m\u001b[43m)\u001b[49m\u001b[43m,\u001b[49m\n\u001b[32m     11\u001b[39m \u001b[43m        \u001b[49m\u001b[43m(\u001b[49m\u001b[43mpl\u001b[49m\u001b[43m.\u001b[49m\u001b[43mcol\u001b[49m\u001b[43m(\u001b[49m\u001b[33;43m\"\u001b[39;49m\u001b[33;43mlocation\u001b[39;49m\u001b[33;43m\"\u001b[39;49m\u001b[43m)\u001b[49m\u001b[43m.\u001b[49m\u001b[43marr\u001b[49m\u001b[43m.\u001b[49m\u001b[43mget\u001b[49m\u001b[43m(\u001b[49m\u001b[32;43m1\u001b[39;49m\u001b[43m)\u001b[49m\u001b[43m \u001b[49m\u001b[43m/\u001b[49m\u001b[43m \u001b[49m\u001b[32;43m80\u001b[39;49m\u001b[43m)\u001b[49m\u001b[43m.\u001b[49m\u001b[43malias\u001b[49m\u001b[43m(\u001b[49m\u001b[33;43m\"\u001b[39;49m\u001b[33;43my\u001b[39;49m\u001b[33;43m\"\u001b[39;49m\u001b[43m)\u001b[49m\u001b[43m,\u001b[49m\n\u001b[32m     12\u001b[39m \u001b[43m        \u001b[49m\u001b[43mpl\u001b[49m\u001b[43m.\u001b[49m\u001b[43mwhen\u001b[49m\u001b[43m(\u001b[49m\u001b[43mpl\u001b[49m\u001b[43m.\u001b[49m\u001b[43mcol\u001b[49m\u001b[43m(\u001b[49m\u001b[33;43m\"\u001b[39;49m\u001b[33;43mtype_name\u001b[39;49m\u001b[33;43m\"\u001b[39;49m\u001b[43m)\u001b[49m\u001b[43m \u001b[49m\u001b[43m==\u001b[49m\u001b[43m \u001b[49m\u001b[33;43m\"\u001b[39;49m\u001b[33;43mPass\u001b[39;49m\u001b[33;43m\"\u001b[39;49m\u001b[43m)\u001b[49m\n\u001b[32m     13\u001b[39m \u001b[43m          \u001b[49m\u001b[43m.\u001b[49m\u001b[43mthen\u001b[49m\u001b[43m(\u001b[49m\u001b[43mpl\u001b[49m\u001b[43m.\u001b[49m\u001b[43mcol\u001b[49m\u001b[43m(\u001b[49m\u001b[33;43m\"\u001b[39;49m\u001b[33;43mpass_end_location\u001b[39;49m\u001b[33;43m\"\u001b[39;49m\u001b[43m)\u001b[49m\u001b[43m.\u001b[49m\u001b[43marr\u001b[49m\u001b[43m.\u001b[49m\u001b[43mget\u001b[49m\u001b[43m(\u001b[49m\u001b[32;43m0\u001b[39;49m\u001b[43m)\u001b[49m\u001b[43m \u001b[49m\u001b[43m/\u001b[49m\u001b[43m \u001b[49m\u001b[32;43m120\u001b[39;49m\u001b[43m)\u001b[49m\n\u001b[32m     14\u001b[39m \u001b[43m          \u001b[49m\u001b[43m.\u001b[49m\u001b[43motherwise\u001b[49m\u001b[43m(\u001b[49m\u001b[38;5;28;43;01mNone\u001b[39;49;00m\u001b[43m)\u001b[49m\n\u001b[32m     15\u001b[39m \u001b[43m          \u001b[49m\u001b[43m.\u001b[49m\u001b[43malias\u001b[49m\u001b[43m(\u001b[49m\u001b[33;43m\"\u001b[39;49m\u001b[33;43mend_x\u001b[39;49m\u001b[33;43m\"\u001b[39;49m\u001b[43m)\u001b[49m\u001b[43m,\u001b[49m\n\u001b[32m     16\u001b[39m \u001b[43m        \u001b[49m\u001b[43mpl\u001b[49m\u001b[43m.\u001b[49m\u001b[43mwhen\u001b[49m\u001b[43m(\u001b[49m\u001b[43mpl\u001b[49m\u001b[43m.\u001b[49m\u001b[43mcol\u001b[49m\u001b[43m(\u001b[49m\u001b[33;43m\"\u001b[39;49m\u001b[33;43mtype_name\u001b[39;49m\u001b[33;43m\"\u001b[39;49m\u001b[43m)\u001b[49m\u001b[43m \u001b[49m\u001b[43m==\u001b[49m\u001b[43m \u001b[49m\u001b[33;43m\"\u001b[39;49m\u001b[33;43mPass\u001b[39;49m\u001b[33;43m\"\u001b[39;49m\u001b[43m)\u001b[49m\n\u001b[32m     17\u001b[39m \u001b[43m          \u001b[49m\u001b[43m.\u001b[49m\u001b[43mthen\u001b[49m\u001b[43m(\u001b[49m\u001b[43mpl\u001b[49m\u001b[43m.\u001b[49m\u001b[43mcol\u001b[49m\u001b[43m(\u001b[49m\u001b[33;43m\"\u001b[39;49m\u001b[33;43mpass_end_location\u001b[39;49m\u001b[33;43m\"\u001b[39;49m\u001b[43m)\u001b[49m\u001b[43m.\u001b[49m\u001b[43marr\u001b[49m\u001b[43m.\u001b[49m\u001b[43mget\u001b[49m\u001b[43m(\u001b[49m\u001b[32;43m1\u001b[39;49m\u001b[43m)\u001b[49m\u001b[43m \u001b[49m\u001b[43m/\u001b[49m\u001b[43m \u001b[49m\u001b[32;43m80\u001b[39;49m\u001b[43m)\u001b[49m\n\u001b[32m     18\u001b[39m \u001b[43m          \u001b[49m\u001b[43m.\u001b[49m\u001b[43motherwise\u001b[49m\u001b[43m(\u001b[49m\u001b[38;5;28;43;01mNone\u001b[39;49;00m\u001b[43m)\u001b[49m\n\u001b[32m     19\u001b[39m \u001b[43m          \u001b[49m\u001b[43m.\u001b[49m\u001b[43malias\u001b[49m\u001b[43m(\u001b[49m\u001b[33;43m\"\u001b[39;49m\u001b[33;43mend_y\u001b[39;49m\u001b[33;43m\"\u001b[39;49m\u001b[43m)\u001b[49m\u001b[43m,\u001b[49m\n\u001b[32m     20\u001b[39m \u001b[43m    \u001b[49m\u001b[43m]\u001b[49m\u001b[43m)\u001b[49m\n\u001b[32m     21\u001b[39m     \u001b[38;5;28;01mreturn\u001b[39;00m df\n",
      "\u001b[36mFile \u001b[39m\u001b[32m~/Desktop/DataEngineering/football_pipeline/.venv/lib/python3.13/site-packages/polars/dataframe/frame.py:10018\u001b[39m, in \u001b[36mDataFrame.with_columns\u001b[39m\u001b[34m(self, *exprs, **named_exprs)\u001b[39m\n\u001b[32m   9872\u001b[39m \u001b[38;5;250m\u001b[39m\u001b[33;03m\"\"\"\u001b[39;00m\n\u001b[32m   9873\u001b[39m \u001b[33;03mAdd columns to this DataFrame.\u001b[39;00m\n\u001b[32m   9874\u001b[39m \n\u001b[32m   (...)\u001b[39m\u001b[32m  10011\u001b[39m \u001b[33;03m└─────┴──────┴─────────────┘\u001b[39;00m\n\u001b[32m  10012\u001b[39m \u001b[33;03m\"\"\"\u001b[39;00m\n\u001b[32m  10013\u001b[39m \u001b[38;5;28;01mfrom\u001b[39;00m\u001b[38;5;250m \u001b[39m\u001b[34;01mpolars\u001b[39;00m\u001b[34;01m.\u001b[39;00m\u001b[34;01mlazyframe\u001b[39;00m\u001b[34;01m.\u001b[39;00m\u001b[34;01mopt_flags\u001b[39;00m\u001b[38;5;250m \u001b[39m\u001b[38;5;28;01mimport\u001b[39;00m QueryOptFlags\n\u001b[32m  10015\u001b[39m \u001b[38;5;28;01mreturn\u001b[39;00m (\n\u001b[32m  10016\u001b[39m     \u001b[38;5;28;43mself\u001b[39;49m\u001b[43m.\u001b[49m\u001b[43mlazy\u001b[49m\u001b[43m(\u001b[49m\u001b[43m)\u001b[49m\n\u001b[32m  10017\u001b[39m \u001b[43m    \u001b[49m\u001b[43m.\u001b[49m\u001b[43mwith_columns\u001b[49m\u001b[43m(\u001b[49m\u001b[43m*\u001b[49m\u001b[43mexprs\u001b[49m\u001b[43m,\u001b[49m\u001b[43m \u001b[49m\u001b[43m*\u001b[49m\u001b[43m*\u001b[49m\u001b[43mnamed_exprs\u001b[49m\u001b[43m)\u001b[49m\n\u001b[32m> \u001b[39m\u001b[32m10018\u001b[39m \u001b[43m    \u001b[49m\u001b[43m.\u001b[49m\u001b[43mcollect\u001b[49m\u001b[43m(\u001b[49m\u001b[43moptimizations\u001b[49m\u001b[43m=\u001b[49m\u001b[43mQueryOptFlags\u001b[49m\u001b[43m.\u001b[49m\u001b[43m_eager\u001b[49m\u001b[43m(\u001b[49m\u001b[43m)\u001b[49m\u001b[43m)\u001b[49m\n\u001b[32m  10019\u001b[39m )\n",
      "\u001b[36mFile \u001b[39m\u001b[32m~/Desktop/DataEngineering/football_pipeline/.venv/lib/python3.13/site-packages/polars/_utils/deprecation.py:97\u001b[39m, in \u001b[36mdeprecate_streaming_parameter.<locals>.decorate.<locals>.wrapper\u001b[39m\u001b[34m(*args, **kwargs)\u001b[39m\n\u001b[32m     93\u001b[39m         kwargs[\u001b[33m\"\u001b[39m\u001b[33mengine\u001b[39m\u001b[33m\"\u001b[39m] = \u001b[33m\"\u001b[39m\u001b[33min-memory\u001b[39m\u001b[33m\"\u001b[39m\n\u001b[32m     95\u001b[39m     \u001b[38;5;28;01mdel\u001b[39;00m kwargs[\u001b[33m\"\u001b[39m\u001b[33mstreaming\u001b[39m\u001b[33m\"\u001b[39m]\n\u001b[32m---> \u001b[39m\u001b[32m97\u001b[39m \u001b[38;5;28;01mreturn\u001b[39;00m \u001b[43mfunction\u001b[49m\u001b[43m(\u001b[49m\u001b[43m*\u001b[49m\u001b[43margs\u001b[49m\u001b[43m,\u001b[49m\u001b[43m \u001b[49m\u001b[43m*\u001b[49m\u001b[43m*\u001b[49m\u001b[43mkwargs\u001b[49m\u001b[43m)\u001b[49m\n",
      "\u001b[36mFile \u001b[39m\u001b[32m~/Desktop/DataEngineering/football_pipeline/.venv/lib/python3.13/site-packages/polars/lazyframe/opt_flags.py:330\u001b[39m, in \u001b[36mforward_old_opt_flags.<locals>.decorate.<locals>.wrapper\u001b[39m\u001b[34m(*args, **kwargs)\u001b[39m\n\u001b[32m    327\u001b[39m         optflags = cb(optflags, kwargs.pop(key))  \u001b[38;5;66;03m# type: ignore[no-untyped-call,unused-ignore]\u001b[39;00m\n\u001b[32m    329\u001b[39m kwargs[\u001b[33m\"\u001b[39m\u001b[33moptimizations\u001b[39m\u001b[33m\"\u001b[39m] = optflags\n\u001b[32m--> \u001b[39m\u001b[32m330\u001b[39m \u001b[38;5;28;01mreturn\u001b[39;00m \u001b[43mfunction\u001b[49m\u001b[43m(\u001b[49m\u001b[43m*\u001b[49m\u001b[43margs\u001b[49m\u001b[43m,\u001b[49m\u001b[43m \u001b[49m\u001b[43m*\u001b[49m\u001b[43m*\u001b[49m\u001b[43mkwargs\u001b[49m\u001b[43m)\u001b[49m\n",
      "\u001b[36mFile \u001b[39m\u001b[32m~/Desktop/DataEngineering/football_pipeline/.venv/lib/python3.13/site-packages/polars/lazyframe/frame.py:2332\u001b[39m, in \u001b[36mLazyFrame.collect\u001b[39m\u001b[34m(self, type_coercion, predicate_pushdown, projection_pushdown, simplify_expression, slice_pushdown, comm_subplan_elim, comm_subexpr_elim, cluster_with_columns, collapse_joins, no_optimization, engine, background, optimizations, **_kwargs)\u001b[39m\n\u001b[32m   2330\u001b[39m \u001b[38;5;66;03m# Only for testing purposes\u001b[39;00m\n\u001b[32m   2331\u001b[39m callback = _kwargs.get(\u001b[33m\"\u001b[39m\u001b[33mpost_opt_callback\u001b[39m\u001b[33m\"\u001b[39m, callback)\n\u001b[32m-> \u001b[39m\u001b[32m2332\u001b[39m \u001b[38;5;28;01mreturn\u001b[39;00m wrap_df(\u001b[43mldf\u001b[49m\u001b[43m.\u001b[49m\u001b[43mcollect\u001b[49m\u001b[43m(\u001b[49m\u001b[43mengine\u001b[49m\u001b[43m,\u001b[49m\u001b[43m \u001b[49m\u001b[43mcallback\u001b[49m\u001b[43m)\u001b[49m)\n",
      "\u001b[31mSchemaError\u001b[39m: invalid series dtype: expected `Array`, got `list[f64]` for series with name `location`"
     ]
    }
   ],
   "source": [
    "# Test enrich_locations (which tests normalize functions internally)\n",
    "# print(\"Before enriching:\")\n",
    "# print(f\"Has x column: {'x' in df.columns}\")\n",
    "# print(f\"Has y column: {'y' in df.columns}\")\n",
    "\n",
    "df_enriched = enrich_locations(df)\n",
    "# df['location'].dtype\n",
    "\n",
    "# print(\"\\nAfter enriching:\")\n",
    "# print(f\"Events with x,y coordinates: {df_enriched[['x', 'y']].notnull().all(axis=1).sum()}\")\n",
    "# print(f\"Pass events with end_x,end_y: {df_enriched[['end_x', 'end_y']].notnull().all(axis=1).sum()}\")\n",
    "\n",
    "# # Sample some results\n",
    "# sample_coords = df_enriched[df_enriched.x.notnull()][['location', 'x', 'y', 'end_x', 'end_y']].head(3)\n",
    "# print(f\"\\nSample normalized coordinates:\")\n",
    "# print(sample_coords)\n",
    "\n",
    "print(df_enriched[[\"location\", \"x\", \"y\"]].head())\n"
   ]
  },
  {
   "cell_type": "code",
   "execution_count": null,
   "id": "3876090e",
   "metadata": {},
   "outputs": [],
   "source": [
    "# =============================================================================\n",
    "# TEST 4: POSSSESSION STATS\n",
    "# =============================================================================\n",
    "\n",
    "def add_possession_stats(df):\n",
    "    # Calculate event count per possession\n",
    "    df['timestamp'] = pd.to_datetime(df['timestamp'], format='%H:%M:%S.%f')\n",
    "    event_count = df.groupby('possession').size().rename('possession_event_count')\n",
    "\n",
    "    # Number of passes in each possession\n",
    "    possession_pass_count = df[df['type_name'] == 'Pass'].groupby('possession').size().rename('possession_pass_count')\n",
    "\n",
    "    # Number of unique players in each possession\n",
    "    possession_player_count = df.groupby('possession')['player_id'].nunique().rename('possession_player_count')\n",
    "\n",
    "    # Calculate possession duration\n",
    "    possession_duration = df.groupby('possession')['timestamp'].max() - df.groupby('possession')['timestamp'].min()\n",
    "    possession_duration = possession_duration.dt.total_seconds().rename('possession_duration')\n",
    "\n",
    "    # Total xG in the possession\n",
    "    total_xg = df[df['type_name'] == \"Shot\"].groupby('possession')['shot_statsbomb_xg'].sum().rename('total_xG')\n",
    "\n",
    "    # Merge it back into the main DataFrame as a new column\n",
    "    df = df.merge(event_count, left_on='possession', right_index=True, how='left')\n",
    "    df = df.merge(possession_pass_count, left_on='possession', right_index=True, how='left')\n",
    "    df = df.merge(possession_player_count, left_on='possession', right_index=True, how='left')\n",
    "    df = df.merge(possession_duration, left_on='possession', right_index=True, how='left')\n",
    "    df = df.merge(total_xg, left_on='possession', right_index=True, how='left')\n",
    "\n",
    "    return df"
   ]
  },
  {
   "cell_type": "code",
   "execution_count": null,
   "id": "677f8ae5",
   "metadata": {},
   "outputs": [
    {
     "ename": "AttributeError",
     "evalue": "'DataFrame' object has no attribute 'select'",
     "output_type": "error",
     "traceback": [
      "\u001b[31m---------------------------------------------------------------------------\u001b[39m",
      "\u001b[31mAttributeError\u001b[39m                            Traceback (most recent call last)",
      "\u001b[32m/var/folders/jd/fg0l7znn3dx7wknv97vysv640000gn/T/ipykernel_48559/1832392779.py\u001b[39m in \u001b[36m?\u001b[39m\u001b[34m()\u001b[39m\n\u001b[32m      1\u001b[39m \u001b[38;5;66;03m# df = add_possession_stats(df_enriched)\u001b[39;00m\n\u001b[32m----> \u001b[39m\u001b[32m2\u001b[39m print(df_enriched.select([\u001b[33m\"location\"\u001b[39m, \u001b[33m\"x_raw\"\u001b[39m, \u001b[33m\"y_raw\"\u001b[39m]).head())\u001b[38;5;66;03m# print([col for col in df.columns if \"duration\" in col])\u001b[39;00m\n\u001b[32m      3\u001b[39m \u001b[38;5;66;03m# print(f\"\\nDataFrame after adding possession stats:\\n{df.head()}\")\u001b[39;00m\n",
      "\u001b[32m~/Desktop/DataEngineering/football_pipeline/.venv/lib/python3.13/site-packages/pandas/core/generic.py\u001b[39m in \u001b[36m?\u001b[39m\u001b[34m(self, name)\u001b[39m\n\u001b[32m   6314\u001b[39m             \u001b[38;5;28;01mand\u001b[39;00m name \u001b[38;5;28;01mnot\u001b[39;00m \u001b[38;5;28;01min\u001b[39;00m self._accessors\n\u001b[32m   6315\u001b[39m             \u001b[38;5;28;01mand\u001b[39;00m self._info_axis._can_hold_identifiers_and_holds_name(name)\n\u001b[32m   6316\u001b[39m         ):\n\u001b[32m   6317\u001b[39m             \u001b[38;5;28;01mreturn\u001b[39;00m self[name]\n\u001b[32m-> \u001b[39m\u001b[32m6318\u001b[39m         \u001b[38;5;28;01mreturn\u001b[39;00m object.__getattribute__(self, name)\n",
      "\u001b[31mAttributeError\u001b[39m: 'DataFrame' object has no attribute 'select'"
     ]
    }
   ],
   "source": [
    "# df = add_possession_stats(df_enriched)\n",
    "print(df_enriched.select([\"location\", \"x_raw\", \"y_raw\"]).head())# print([col for col in df.columns if \"duration\" in col])\n",
    "# print(f\"\\nDataFrame after adding possession stats:\\n{df.head()}\")"
   ]
  }
 ],
 "metadata": {
  "kernelspec": {
   "display_name": ".venv",
   "language": "python",
   "name": "python3"
  },
  "language_info": {
   "codemirror_mode": {
    "name": "ipython",
    "version": 3
   },
   "file_extension": ".py",
   "mimetype": "text/x-python",
   "name": "python",
   "nbconvert_exporter": "python",
   "pygments_lexer": "ipython3",
   "version": "3.13.5"
  }
 },
 "nbformat": 4,
 "nbformat_minor": 5
}
