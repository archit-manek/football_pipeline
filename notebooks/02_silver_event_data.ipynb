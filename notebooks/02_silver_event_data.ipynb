{
 "cells": [
  {
   "cell_type": "code",
   "execution_count": null,
   "id": "240e3431",
   "metadata": {},
   "outputs": [
    {
     "name": "stderr",
     "output_type": "stream",
     "text": [
      "/var/folders/jd/fg0l7znn3dx7wknv97vysv640000gn/T/ipykernel_58423/448310152.py:19: ChronoFormatWarning: Detected the pattern `.%f` in the chrono format string. This pattern should not be used to parse values after a decimal point. Use `%.f` instead. See the full specification: https://docs.rs/chrono/latest/chrono/format/strftime\n",
      "  pl.col(\"timestamp\").str.strptime(pl.Datetime, \"%H:%M:%S.%f\", strict=False)\n"
     ]
    }
   ],
   "source": [
    "# =============================================================================\n",
    "# SETUP\n",
    "# =============================================================================\n",
    "import sys\n",
    "from pathlib import Path\n",
    "import polars as pl\n",
    "import logging\n",
    "import numpy as np\n",
    "\n",
    "# Add project root to Python path\n",
    "sys.path.insert(0, '/Users/architmanek/Desktop/DataEngineering/football_pipeline')\n",
    "\n",
    "# Now imports work without changing working directory\n",
    "from utils.constants import ABS_PATH, BRONZE_DIR_EVENTS\n",
    "\n",
    "file_path = ABS_PATH / BRONZE_DIR_EVENTS / \"events_15946.parquet\"\n",
    "df = pl.read_parquet(file_path)\n",
    "df = df.with_columns(\n",
    "                pl.col(\"timestamp\").str.strptime(pl.Datetime, \"%H:%M:%S.%f\", strict=False)\n",
    "            )"
   ]
  },
  {
   "cell_type": "code",
   "execution_count": 9,
   "id": "fd200d69",
   "metadata": {},
   "outputs": [],
   "source": [
    "# =============================================================================\n",
    "# TEST 1: COLUMN FLATTENING\n",
    "# =============================================================================\n",
    "def flatten_columns(df):\n",
    "    return df.rename({col: col.replace('.', '_') for col in df.columns})"
   ]
  },
  {
   "cell_type": "code",
   "execution_count": 10,
   "id": "8326adf1",
   "metadata": {},
   "outputs": [
    {
     "name": "stdout",
     "output_type": "stream",
     "text": [
      "Columns with periods: ['type.id', 'type.name', 'possession_team.id', 'possession_team.name', 'play_pattern.id', 'play_pattern.name', 'team.id', 'team.name', 'tactics.formation', 'tactics.lineup', 'player.id', 'player.name', 'position.id', 'position.name', 'pass.recipient.id', 'pass.recipient.name', 'pass.length', 'pass.angle', 'pass.height.id', 'pass.height.name', 'pass.end_location', 'pass.body_part.id', 'pass.body_part.name', 'pass.type.id', 'pass.type.name', 'carry.end_location', 'pass.switch', 'pass.outcome.id', 'pass.outcome.name', 'ball_receipt.outcome.id', 'ball_receipt.outcome.name', 'duel.type.id', 'duel.type.name', 'pass.aerial_won', 'interception.outcome.id', 'interception.outcome.name', 'ball_recovery.recovery_failure', 'pass.assisted_shot_id', 'pass.shot_assist', 'shot.statsbomb_xg', 'shot.end_location', 'shot.key_pass_id', 'shot.outcome.id', 'shot.outcome.name', 'shot.first_time', 'shot.technique.id', 'shot.technique.name', 'shot.body_part.id', 'shot.body_part.name', 'shot.type.id', 'shot.type.name', 'shot.freeze_frame', 'goalkeeper.end_location', 'goalkeeper.type.id', 'goalkeeper.type.name', 'goalkeeper.position.id', 'goalkeeper.position.name', 'pass.cross', 'goalkeeper.outcome.id', 'goalkeeper.outcome.name', 'clearance.left_foot', 'clearance.body_part.id', 'clearance.body_part.name', 'block.deflection', 'duel.outcome.id', 'duel.outcome.name', 'dribble.nutmeg', 'dribble.outcome.id', 'dribble.outcome.name', 'foul_committed.offensive', 'foul_committed.card.id', 'foul_committed.card.name', 'foul_won.defensive', 'pass.through_ball', 'pass.technique.id', 'pass.technique.name', 'clearance.right_foot', 'pass.inswinging', 'goalkeeper.technique.id', 'goalkeeper.technique.name', 'goalkeeper.body_part.id', 'goalkeeper.body_part.name', 'clearance.head', 'shot.aerial_won', 'miscontrol.aerial_won', 'dribble.overrun', 'pass.miscommunication', 'block.offensive', 'bad_behaviour.card.id', 'bad_behaviour.card.name', 'substitution.outcome.id', 'substitution.outcome.name', 'substitution.replacement.id', 'substitution.replacement.name', 'pass.cut_back', 'shot.one_on_one', 'foul_committed.advantage', 'foul_won.advantage', 'clearance.aerial_won', 'pass.deflected', 'pass.no_touch', 'foul_committed.type.id', 'foul_committed.type.name', 'pass.straight', 'pass.goal_assist']\n",
      "Number of columns with periods: 105\n",
      "Columns with periods: []\n",
      "Number of columns with periods: 0\n"
     ]
    }
   ],
   "source": [
    "# Find columns with periods\n",
    "columns_with_periods = [col for col in df.columns if '.' in col]\n",
    "print(f\"Columns with periods: {columns_with_periods}\")\n",
    "print(f\"Number of columns with periods: {len(columns_with_periods)}\")\n",
    "\n",
    "# Test flatten_columns\n",
    "df = flatten_columns(df)\n",
    "\n",
    "columns_with_periods = [col for col in df.columns if '.' in col]\n",
    "print(f\"Columns with periods: {columns_with_periods}\")\n",
    "print(f\"Number of columns with periods: {len(columns_with_periods)}\")\n"
   ]
  },
  {
   "cell_type": "code",
   "execution_count": 11,
   "id": "1e50920b",
   "metadata": {},
   "outputs": [],
   "source": [
    "# =============================================================================\n",
    "# TEST 2: ENRICH LOCATIONS\n",
    "# =============================================================================\n",
    "def enrich_locations(df):\n",
    "    df = df.with_columns([\n",
    "        pl.col(\"location\").cast(pl.Array(pl.Float64, 2)).alias(\"location\"),\n",
    "        pl.col(\"pass_end_location\").cast(pl.Array(pl.Float64, 2)).alias(\"pass_end_location\"),\n",
    "    ])\n",
    "    df = df.with_columns([\n",
    "        (pl.col(\"location\").arr.get(0) / 120).alias(\"x\"),\n",
    "        (pl.col(\"location\").arr.get(1) / 80).alias(\"y\"),\n",
    "        pl.when(pl.col(\"type_name\") == \"Pass\")\n",
    "          .then(pl.col(\"pass_end_location\").arr.get(0) / 120)\n",
    "          .otherwise(None)\n",
    "          .alias(\"end_x\"),\n",
    "        pl.when(pl.col(\"type_name\") == \"Pass\")\n",
    "          .then(pl.col(\"pass_end_location\").arr.get(1) / 80)\n",
    "          .otherwise(None)\n",
    "          .alias(\"end_y\"),\n",
    "    ])\n",
    "    return df"
   ]
  },
  {
   "cell_type": "code",
   "execution_count": 12,
   "id": "b713b129",
   "metadata": {},
   "outputs": [
    {
     "name": "stdout",
     "output_type": "stream",
     "text": [
      "shape: (5, 3)\n",
      "┌───────────────┬──────────┬─────────┐\n",
      "│ location      ┆ x        ┆ y       │\n",
      "│ ---           ┆ ---      ┆ ---     │\n",
      "│ array[f64, 2] ┆ f64      ┆ f64     │\n",
      "╞═══════════════╪══════════╪═════════╡\n",
      "│ null          ┆ null     ┆ null    │\n",
      "│ null          ┆ null     ┆ null    │\n",
      "│ null          ┆ null     ┆ null    │\n",
      "│ null          ┆ null     ┆ null    │\n",
      "│ [61.0, 40.1]  ┆ 0.508333 ┆ 0.50125 │\n",
      "└───────────────┴──────────┴─────────┘\n"
     ]
    }
   ],
   "source": [
    "# Test enrich_locations (which tests normalize functions internally)\n",
    "# print(\"Before enriching:\")\n",
    "# print(f\"Has x column: {'x' in df.columns}\")\n",
    "# print(f\"Has y column: {'y' in df.columns}\")\n",
    "\n",
    "df_enriched = enrich_locations(df)\n",
    "# df['location'].dtype\n",
    "\n",
    "# print(\"\\nAfter enriching:\")\n",
    "# print(f\"Events with x,y coordinates: {df_enriched[['x', 'y']].notnull().all(axis=1).sum()}\")\n",
    "# print(f\"Pass events with end_x,end_y: {df_enriched[['end_x', 'end_y']].notnull().all(axis=1).sum()}\")\n",
    "\n",
    "# # Sample some results\n",
    "# sample_coords = df_enriched[df_enriched.x.notnull()][['location', 'x', 'y', 'end_x', 'end_y']].head(3)\n",
    "# print(f\"\\nSample normalized coordinates:\")\n",
    "# print(sample_coords)\n",
    "\n",
    "print(df_enriched[[\"location\", \"x\", \"y\"]].head())\n"
   ]
  },
  {
   "cell_type": "code",
   "execution_count": 13,
   "id": "3876090e",
   "metadata": {},
   "outputs": [],
   "source": [
    "def add_possession_stats(df):\n",
    "    \"\"\"Add possession stats\n",
    "\n",
    "    Args:\n",
    "        df (pd.DataFrame): DataFrame with pass data\n",
    "\n",
    "    Returns:\n",
    "        pd.DataFrame: DataFrame with possession stats including:\n",
    "        - possession_event_count: Number of events in each possession\n",
    "        - possession_pass_count: Number of passes in each possession\n",
    "        - possession_player_count: Number of unique players in each possession\n",
    "        - possession_duration: Duration of each possession\n",
    "        - possession_xg: Total xG in the possession\n",
    "    \"\"\"\n",
    "    \n",
    "    # Calculate event count per possession\n",
    "    event_count = df.group_by(\"possession\").agg(\n",
    "        pl.count().alias(\"possession_event_count\")\n",
    "    )\n",
    "\n",
    "    # Number of passes in each possession\n",
    "    pass_count = (\n",
    "        df.filter(pl.col(\"type_name\") == \"Pass\")\n",
    "        .group_by(\"possession\")\n",
    "        .agg(pl.count().alias(\"possession_pass_count\"))\n",
    "    )\n",
    "\n",
    "    # Number of unique players in each possession\n",
    "    player_count = df.group_by(\"possession\").agg(\n",
    "        pl.col(\"player_id\").n_unique().alias(\"possession_player_count\")\n",
    "    )\n",
    "    \n",
    "    # Possession duration (in seconds)\n",
    "    duration = df.group_by(\"possession\").agg(\n",
    "        (pl.col(\"timestamp\").max() - pl.col(\"timestamp\").min()).dt.total_seconds().alias(\"possession_duration\")\n",
    "    )\n",
    "\n",
    "    # Total xG per possession\n",
    "    total_xg = (\n",
    "        df.filter(pl.col(\"type_name\") == \"Shot\")\n",
    "        .group_by(\"possession\")\n",
    "        .agg(pl.col(\"shot_statsbomb_xg\").sum().alias(\"total_xG\"))\n",
    "    )\n",
    "\n",
    "    # Merge it back into the main DataFrame as a new column\n",
    "    df = df.join(event_count, on=\"possession\", how=\"left\")\n",
    "    df = df.join(pass_count, on=\"possession\", how=\"left\")\n",
    "    df = df.join(player_count, on=\"possession\", how=\"left\")\n",
    "    df = df.join(duration, on=\"possession\", how=\"left\")\n",
    "    df = df.join(total_xg, on=\"possession\", how=\"left\")\n",
    "\n",
    "    return df"
   ]
  },
  {
   "cell_type": "code",
   "execution_count": 15,
   "id": "677f8ae5",
   "metadata": {},
   "outputs": [
    {
     "name": "stdout",
     "output_type": "stream",
     "text": [
      "shape: (5, 128)\n",
      "┌─────────────┬───────┬────────┬─────────────┬───┬────────────┬────────────┬────────────┬──────────┐\n",
      "│ id          ┆ index ┆ period ┆ timestamp   ┆ … ┆ possession ┆ possession ┆ possession ┆ total_xG │\n",
      "│ ---         ┆ ---   ┆ ---    ┆ ---         ┆   ┆ _pass_coun ┆ _player_co ┆ _duration  ┆ ---      │\n",
      "│ str         ┆ i64   ┆ i64    ┆ datetime[μs ┆   ┆ t          ┆ unt        ┆ ---        ┆ f64      │\n",
      "│             ┆       ┆        ┆ ]           ┆   ┆ ---        ┆ ---        ┆ i64        ┆          │\n",
      "│             ┆       ┆        ┆             ┆   ┆ u32        ┆ u32        ┆            ┆          │\n",
      "╞═════════════╪═══════╪════════╪═════════════╪═══╪════════════╪════════════╪════════════╪══════════╡\n",
      "│ 9f6e2ecf-66 ┆ 1     ┆ 1      ┆ null        ┆ … ┆ null       ┆ 1          ┆ null       ┆ null     │\n",
      "│ 85-45df-a62 ┆       ┆        ┆             ┆   ┆            ┆            ┆            ┆          │\n",
      "│ e-c2db30…   ┆       ┆        ┆             ┆   ┆            ┆            ┆            ┆          │\n",
      "│ 0300039d-15 ┆ 2     ┆ 1      ┆ null        ┆ … ┆ null       ┆ 1          ┆ null       ┆ null     │\n",
      "│ 0d-41e4-b29 ┆       ┆        ┆             ┆   ┆            ┆            ┆            ┆          │\n",
      "│ a-76602e…   ┆       ┆        ┆             ┆   ┆            ┆            ┆            ┆          │\n",
      "│ 491e8901-76 ┆ 3     ┆ 1      ┆ null        ┆ … ┆ null       ┆ 1          ┆ null       ┆ null     │\n",
      "│ 30-4cc8-b57 ┆       ┆        ┆             ┆   ┆            ┆            ┆            ┆          │\n",
      "│ b-937ddd…   ┆       ┆        ┆             ┆   ┆            ┆            ┆            ┆          │\n",
      "│ 757b85ad-dd ┆ 4     ┆ 1      ┆ null        ┆ … ┆ null       ┆ 1          ┆ null       ┆ null     │\n",
      "│ fe-44d5-b89 ┆       ┆        ┆             ┆   ┆            ┆            ┆            ┆          │\n",
      "│ 3-c23a9f…   ┆       ┆        ┆             ┆   ┆            ┆            ┆            ┆          │\n",
      "│ 549567bd-36 ┆ 5     ┆ 1      ┆ null        ┆ … ┆ 2          ┆ 3          ┆ null       ┆ null     │\n",
      "│ de-4ac8-b8d ┆       ┆        ┆             ┆   ┆            ┆            ┆            ┆          │\n",
      "│ c-6b5d3f…   ┆       ┆        ┆             ┆   ┆            ┆            ┆            ┆          │\n",
      "└─────────────┴───────┴────────┴─────────────┴───┴────────────┴────────────┴────────────┴──────────┘\n"
     ]
    },
    {
     "name": "stderr",
     "output_type": "stream",
     "text": [
      "/var/folders/jd/fg0l7znn3dx7wknv97vysv640000gn/T/ipykernel_58423/1332955816.py:18: DeprecationWarning: `pl.count()` is deprecated. Please use `pl.len()` instead.\n",
      "(Deprecated in version 0.20.5)\n",
      "  pl.count().alias(\"possession_event_count\")\n",
      "/var/folders/jd/fg0l7znn3dx7wknv97vysv640000gn/T/ipykernel_58423/1332955816.py:25: DeprecationWarning: `pl.count()` is deprecated. Please use `pl.len()` instead.\n",
      "(Deprecated in version 0.20.5)\n",
      "  .agg(pl.count().alias(\"possession_pass_count\"))\n"
     ]
    }
   ],
   "source": [
    "df = add_possession_stats(df_enriched)\n",
    "print(df.head())\n",
    "# print(f\"\\nDataFrame after adding possession stats:\\n{df.head()}\")"
   ]
  }
 ],
 "metadata": {
  "kernelspec": {
   "display_name": ".venv",
   "language": "python",
   "name": "python3"
  },
  "language_info": {
   "codemirror_mode": {
    "name": "ipython",
    "version": 3
   },
   "file_extension": ".py",
   "mimetype": "text/x-python",
   "name": "python",
   "nbconvert_exporter": "python",
   "pygments_lexer": "ipython3",
   "version": "3.13.5"
  }
 },
 "nbformat": 4,
 "nbformat_minor": 5
}
