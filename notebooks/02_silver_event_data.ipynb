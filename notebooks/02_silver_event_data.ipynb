{
 "cells": [
  {
   "cell_type": "code",
   "execution_count": 21,
   "id": "240e3431",
   "metadata": {},
   "outputs": [
    {
     "name": "stderr",
     "output_type": "stream",
     "text": [
      "/var/folders/jd/fg0l7znn3dx7wknv97vysv640000gn/T/ipykernel_16500/309200011.py:19: ChronoFormatWarning: Detected the pattern `.%f` in the chrono format string. This pattern should not be used to parse values after a decimal point. Use `%.f` instead. See the full specification: https://docs.rs/chrono/latest/chrono/format/strftime\n",
      "  pl.col(\"timestamp\").str.strptime(pl.Datetime, \"%H:%M:%S.%f\", strict=False)\n"
     ]
    }
   ],
   "source": [
    "# =============================================================================\n",
    "# SETUP\n",
    "# =============================================================================\n",
    "import sys\n",
    "from pathlib import Path\n",
    "import polars as pl\n",
    "import logging\n",
    "import numpy as np\n",
    "\n",
    "# Add project root to Python path\n",
    "sys.path.insert(0, '/Users/architmanek/Desktop/DataEngineering/football_pipeline')\n",
    "\n",
    "# Now imports work without changing working directory\n",
    "from utils.constants import ABS_PATH, BRONZE_DIR_EVENTS\n",
    "\n",
    "file_path = ABS_PATH / BRONZE_DIR_EVENTS / \"events_15946.parquet\"\n",
    "df = pl.read_parquet(file_path)\n",
    "df = df.with_columns(\n",
    "                pl.col(\"timestamp\").str.strptime(pl.Datetime, \"%H:%M:%S.%f\", strict=False)\n",
    "            )"
   ]
  },
  {
   "cell_type": "code",
   "execution_count": 22,
   "id": "fd200d69",
   "metadata": {},
   "outputs": [],
   "source": [
    "# =============================================================================\n",
    "# TEST 1: COLUMN FLATTENING\n",
    "# =============================================================================\n",
    "def flatten_columns(df):\n",
    "    while True:\n",
    "        # Find struct columns\n",
    "        struct_cols = [col for col in df.columns if df.schema[col] == pl.Struct]\n",
    "        # Find list-of-struct columns\n",
    "        list_struct_cols = [\n",
    "            col for col in df.columns\n",
    "            if isinstance(df.schema[col], pl.List) and getattr(df.schema[col], 'inner', None) == pl.Struct\n",
    "        ]\n",
    "        if not struct_cols and not list_struct_cols:\n",
    "            break\n",
    "\n",
    "        # Flatten struct columns\n",
    "        for col in struct_cols:\n",
    "            fields = df.schema[col].fields\n",
    "            df = df.with_columns([\n",
    "                pl.col(col).struct.field(field.name).alias(f\"{col}_{field.name}\") for field in fields\n",
    "            ]).drop(col)\n",
    "\n",
    "        # Explode and flatten list-of-struct columns\n",
    "        for col in list_struct_cols:\n",
    "            df = df.explode(col)\n",
    "            # After exploding, the column is now a struct, so flatten it\n",
    "            fields = df.schema[col].fields\n",
    "            df = df.with_columns([\n",
    "                pl.col(col).struct.field(field.name).alias(f\"{col}_{field.name}\") for field in fields\n",
    "            ]).drop(col)\n",
    "        df = df.rename({col: col.replace('.', '_') for col in df.columns})\n",
    "    return df"
   ]
  },
  {
   "cell_type": "code",
   "execution_count": 23,
   "id": "8326adf1",
   "metadata": {},
   "outputs": [
    {
     "name": "stdout",
     "output_type": "stream",
     "text": [
      "Columns with periods: ['type.id', 'type.name', 'possession_team.id', 'possession_team.name', 'play_pattern.id', 'play_pattern.name', 'team.id', 'team.name', 'tactics.formation', 'tactics.lineup', 'player.id', 'player.name', 'position.id', 'position.name', 'pass.recipient.id', 'pass.recipient.name', 'pass.length', 'pass.angle', 'pass.height.id', 'pass.height.name', 'pass.end_location', 'pass.body_part.id', 'pass.body_part.name', 'pass.type.id', 'pass.type.name', 'carry.end_location', 'pass.switch', 'pass.outcome.id', 'pass.outcome.name', 'ball_receipt.outcome.id', 'ball_receipt.outcome.name', 'duel.type.id', 'duel.type.name', 'pass.aerial_won', 'interception.outcome.id', 'interception.outcome.name', 'ball_recovery.recovery_failure', 'pass.assisted_shot_id', 'pass.shot_assist', 'shot.statsbomb_xg', 'shot.end_location', 'shot.key_pass_id', 'shot.outcome.id', 'shot.outcome.name', 'shot.first_time', 'shot.technique.id', 'shot.technique.name', 'shot.body_part.id', 'shot.body_part.name', 'shot.type.id', 'shot.type.name', 'shot.freeze_frame', 'goalkeeper.end_location', 'goalkeeper.type.id', 'goalkeeper.type.name', 'goalkeeper.position.id', 'goalkeeper.position.name', 'pass.cross', 'goalkeeper.outcome.id', 'goalkeeper.outcome.name', 'clearance.left_foot', 'clearance.body_part.id', 'clearance.body_part.name', 'block.deflection', 'duel.outcome.id', 'duel.outcome.name', 'dribble.nutmeg', 'dribble.outcome.id', 'dribble.outcome.name', 'foul_committed.offensive', 'foul_committed.card.id', 'foul_committed.card.name', 'foul_won.defensive', 'pass.through_ball', 'pass.technique.id', 'pass.technique.name', 'clearance.right_foot', 'pass.inswinging', 'goalkeeper.technique.id', 'goalkeeper.technique.name', 'goalkeeper.body_part.id', 'goalkeeper.body_part.name', 'clearance.head', 'shot.aerial_won', 'miscontrol.aerial_won', 'dribble.overrun', 'pass.miscommunication', 'block.offensive', 'bad_behaviour.card.id', 'bad_behaviour.card.name', 'substitution.outcome.id', 'substitution.outcome.name', 'substitution.replacement.id', 'substitution.replacement.name', 'pass.cut_back', 'shot.one_on_one', 'foul_committed.advantage', 'foul_won.advantage', 'clearance.aerial_won', 'pass.deflected', 'pass.no_touch', 'foul_committed.type.id', 'foul_committed.type.name', 'pass.straight', 'pass.goal_assist']\n",
      "Number of columns with periods: 105\n",
      "Columns with periods: []\n",
      "Number of columns with periods: 0\n"
     ]
    }
   ],
   "source": [
    "# Find columns with periods\n",
    "columns_with_periods = [col for col in df.columns if '.' in col]\n",
    "print(f\"Columns with periods: {columns_with_periods}\")\n",
    "print(f\"Number of columns with periods: {len(columns_with_periods)}\")\n",
    "\n",
    "# Test flatten_columns\n",
    "df = flatten_columns(df)\n",
    "\n",
    "columns_with_periods = [col for col in df.columns if '.' in col]\n",
    "print(f\"Columns with periods: {columns_with_periods}\")\n",
    "print(f\"Number of columns with periods: {len(columns_with_periods)}\")\n"
   ]
  },
  {
   "cell_type": "code",
   "execution_count": 24,
   "id": "1e50920b",
   "metadata": {},
   "outputs": [],
   "source": [
    "# =============================================================================\n",
    "# TEST 2: ENRICH LOCATIONS\n",
    "# =============================================================================\n",
    "def enrich_locations(df):\n",
    "    df = df.with_columns([\n",
    "        pl.col(\"location\").cast(pl.Array(pl.Float64, 2)).alias(\"location\"),\n",
    "        pl.col(\"pass_end_location\").cast(pl.Array(pl.Float64, 2)).alias(\"pass_end_location\"),\n",
    "    ])\n",
    "    df = df.with_columns([\n",
    "        (pl.col(\"location\").arr.get(0) / 120).alias(\"x\"),\n",
    "        (pl.col(\"location\").arr.get(1) / 80).alias(\"y\"),\n",
    "        pl.when(pl.col(\"type_name\") == \"Pass\")\n",
    "          .then(pl.col(\"pass_end_location\").arr.get(0) / 120)\n",
    "          .otherwise(None)\n",
    "          .alias(\"end_x\"),\n",
    "        pl.when(pl.col(\"type_name\") == \"Pass\")\n",
    "          .then(pl.col(\"pass_end_location\").arr.get(1) / 80)\n",
    "          .otherwise(None)\n",
    "          .alias(\"end_y\"),\n",
    "    ])\n",
    "    return df"
   ]
  },
  {
   "cell_type": "code",
   "execution_count": 25,
   "id": "b713b129",
   "metadata": {},
   "outputs": [
    {
     "data": {
      "text/html": [
       "<div><style>\n",
       ".dataframe > thead > tr,\n",
       ".dataframe > tbody > tr {\n",
       "  text-align: right;\n",
       "  white-space: pre-wrap;\n",
       "}\n",
       "</style>\n",
       "<small>shape: (5, 132)</small><table border=\"1\" class=\"dataframe\"><thead><tr><th>id</th><th>index</th><th>period</th><th>timestamp</th><th>minute</th><th>second</th><th>possession</th><th>duration</th><th>type_id</th><th>type_name</th><th>possession_team_id</th><th>possession_team_name</th><th>play_pattern_id</th><th>play_pattern_name</th><th>team_id</th><th>team_name</th><th>tactics_formation</th><th>related_events</th><th>location</th><th>player_id</th><th>player_name</th><th>position_id</th><th>position_name</th><th>pass_recipient_id</th><th>pass_recipient_name</th><th>pass_length</th><th>pass_angle</th><th>pass_height_id</th><th>pass_height_name</th><th>pass_end_location</th><th>pass_body_part_id</th><th>pass_body_part_name</th><th>pass_type_id</th><th>pass_type_name</th><th>carry_end_location</th><th>pass_switch</th><th>pass_outcome_id</th><th>&hellip;</th><th>shot_aerial_won</th><th>miscontrol_aerial_won</th><th>dribble_overrun</th><th>pass_miscommunication</th><th>block_offensive</th><th>bad_behaviour_card_id</th><th>bad_behaviour_card_name</th><th>substitution_outcome_id</th><th>substitution_outcome_name</th><th>substitution_replacement_id</th><th>substitution_replacement_name</th><th>pass_cut_back</th><th>shot_one_on_one</th><th>foul_committed_advantage</th><th>foul_won_advantage</th><th>clearance_aerial_won</th><th>pass_deflected</th><th>pass_no_touch</th><th>foul_committed_type_id</th><th>foul_committed_type_name</th><th>pass_straight</th><th>pass_goal_assist</th><th>tactics_lineup_jersey_number</th><th>shot_freeze_frame_location</th><th>shot_freeze_frame_teammate</th><th>tactics_lineup_player_id</th><th>tactics_lineup_player_name</th><th>tactics_lineup_position_id</th><th>tactics_lineup_position_name</th><th>shot_freeze_frame_player_id</th><th>shot_freeze_frame_player_name</th><th>shot_freeze_frame_position_id</th><th>shot_freeze_frame_position_name</th><th>x</th><th>y</th><th>end_x</th><th>end_y</th></tr><tr><td>str</td><td>i64</td><td>i64</td><td>datetime[μs]</td><td>i64</td><td>i64</td><td>i64</td><td>f64</td><td>i64</td><td>str</td><td>i64</td><td>str</td><td>i64</td><td>str</td><td>i64</td><td>str</td><td>f64</td><td>list[str]</td><td>array[f64, 2]</td><td>f64</td><td>str</td><td>f64</td><td>str</td><td>f64</td><td>str</td><td>f64</td><td>f64</td><td>f64</td><td>str</td><td>array[f64, 2]</td><td>f64</td><td>str</td><td>f64</td><td>str</td><td>list[f64]</td><td>bool</td><td>f64</td><td>&hellip;</td><td>bool</td><td>bool</td><td>bool</td><td>bool</td><td>bool</td><td>f64</td><td>str</td><td>f64</td><td>str</td><td>f64</td><td>str</td><td>bool</td><td>bool</td><td>bool</td><td>bool</td><td>bool</td><td>bool</td><td>bool</td><td>f64</td><td>str</td><td>bool</td><td>bool</td><td>i64</td><td>list[f64]</td><td>bool</td><td>i64</td><td>str</td><td>i64</td><td>str</td><td>i64</td><td>str</td><td>i64</td><td>str</td><td>f64</td><td>f64</td><td>f64</td><td>f64</td></tr></thead><tbody><tr><td>&quot;9f6e2ecf-6685-45df-a62e-c2db30…</td><td>1</td><td>1</td><td>null</td><td>0</td><td>0</td><td>1</td><td>0.0</td><td>35</td><td>&quot;Starting XI&quot;</td><td>217</td><td>&quot;Barcelona&quot;</td><td>1</td><td>&quot;Regular Play&quot;</td><td>217</td><td>&quot;Barcelona&quot;</td><td>442.0</td><td>null</td><td>null</td><td>null</td><td>null</td><td>null</td><td>null</td><td>null</td><td>null</td><td>null</td><td>null</td><td>null</td><td>null</td><td>null</td><td>null</td><td>null</td><td>null</td><td>null</td><td>null</td><td>null</td><td>null</td><td>&hellip;</td><td>null</td><td>null</td><td>null</td><td>null</td><td>null</td><td>null</td><td>null</td><td>null</td><td>null</td><td>null</td><td>null</td><td>null</td><td>null</td><td>null</td><td>null</td><td>null</td><td>null</td><td>null</td><td>null</td><td>null</td><td>null</td><td>null</td><td>1</td><td>null</td><td>null</td><td>20055</td><td>&quot;Marc-André ter Stegen&quot;</td><td>1</td><td>&quot;Goalkeeper&quot;</td><td>null</td><td>null</td><td>null</td><td>null</td><td>null</td><td>null</td><td>null</td><td>null</td></tr><tr><td>&quot;9f6e2ecf-6685-45df-a62e-c2db30…</td><td>1</td><td>1</td><td>null</td><td>0</td><td>0</td><td>1</td><td>0.0</td><td>35</td><td>&quot;Starting XI&quot;</td><td>217</td><td>&quot;Barcelona&quot;</td><td>1</td><td>&quot;Regular Play&quot;</td><td>217</td><td>&quot;Barcelona&quot;</td><td>442.0</td><td>null</td><td>null</td><td>null</td><td>null</td><td>null</td><td>null</td><td>null</td><td>null</td><td>null</td><td>null</td><td>null</td><td>null</td><td>null</td><td>null</td><td>null</td><td>null</td><td>null</td><td>null</td><td>null</td><td>null</td><td>&hellip;</td><td>null</td><td>null</td><td>null</td><td>null</td><td>null</td><td>null</td><td>null</td><td>null</td><td>null</td><td>null</td><td>null</td><td>null</td><td>null</td><td>null</td><td>null</td><td>null</td><td>null</td><td>null</td><td>null</td><td>null</td><td>null</td><td>null</td><td>2</td><td>null</td><td>null</td><td>6374</td><td>&quot;Nélson Cabral Semedo&quot;</td><td>2</td><td>&quot;Right Back&quot;</td><td>null</td><td>null</td><td>null</td><td>null</td><td>null</td><td>null</td><td>null</td><td>null</td></tr><tr><td>&quot;9f6e2ecf-6685-45df-a62e-c2db30…</td><td>1</td><td>1</td><td>null</td><td>0</td><td>0</td><td>1</td><td>0.0</td><td>35</td><td>&quot;Starting XI&quot;</td><td>217</td><td>&quot;Barcelona&quot;</td><td>1</td><td>&quot;Regular Play&quot;</td><td>217</td><td>&quot;Barcelona&quot;</td><td>442.0</td><td>null</td><td>null</td><td>null</td><td>null</td><td>null</td><td>null</td><td>null</td><td>null</td><td>null</td><td>null</td><td>null</td><td>null</td><td>null</td><td>null</td><td>null</td><td>null</td><td>null</td><td>null</td><td>null</td><td>null</td><td>&hellip;</td><td>null</td><td>null</td><td>null</td><td>null</td><td>null</td><td>null</td><td>null</td><td>null</td><td>null</td><td>null</td><td>null</td><td>null</td><td>null</td><td>null</td><td>null</td><td>null</td><td>null</td><td>null</td><td>null</td><td>null</td><td>null</td><td>null</td><td>3</td><td>null</td><td>null</td><td>5213</td><td>&quot;Gerard Piqué Bernabéu&quot;</td><td>3</td><td>&quot;Right Center Back&quot;</td><td>null</td><td>null</td><td>null</td><td>null</td><td>null</td><td>null</td><td>null</td><td>null</td></tr><tr><td>&quot;9f6e2ecf-6685-45df-a62e-c2db30…</td><td>1</td><td>1</td><td>null</td><td>0</td><td>0</td><td>1</td><td>0.0</td><td>35</td><td>&quot;Starting XI&quot;</td><td>217</td><td>&quot;Barcelona&quot;</td><td>1</td><td>&quot;Regular Play&quot;</td><td>217</td><td>&quot;Barcelona&quot;</td><td>442.0</td><td>null</td><td>null</td><td>null</td><td>null</td><td>null</td><td>null</td><td>null</td><td>null</td><td>null</td><td>null</td><td>null</td><td>null</td><td>null</td><td>null</td><td>null</td><td>null</td><td>null</td><td>null</td><td>null</td><td>null</td><td>&hellip;</td><td>null</td><td>null</td><td>null</td><td>null</td><td>null</td><td>null</td><td>null</td><td>null</td><td>null</td><td>null</td><td>null</td><td>null</td><td>null</td><td>null</td><td>null</td><td>null</td><td>null</td><td>null</td><td>null</td><td>null</td><td>null</td><td>null</td><td>23</td><td>null</td><td>null</td><td>5492</td><td>&quot;Samuel Yves Umtiti&quot;</td><td>5</td><td>&quot;Left Center Back&quot;</td><td>null</td><td>null</td><td>null</td><td>null</td><td>null</td><td>null</td><td>null</td><td>null</td></tr><tr><td>&quot;9f6e2ecf-6685-45df-a62e-c2db30…</td><td>1</td><td>1</td><td>null</td><td>0</td><td>0</td><td>1</td><td>0.0</td><td>35</td><td>&quot;Starting XI&quot;</td><td>217</td><td>&quot;Barcelona&quot;</td><td>1</td><td>&quot;Regular Play&quot;</td><td>217</td><td>&quot;Barcelona&quot;</td><td>442.0</td><td>null</td><td>null</td><td>null</td><td>null</td><td>null</td><td>null</td><td>null</td><td>null</td><td>null</td><td>null</td><td>null</td><td>null</td><td>null</td><td>null</td><td>null</td><td>null</td><td>null</td><td>null</td><td>null</td><td>null</td><td>&hellip;</td><td>null</td><td>null</td><td>null</td><td>null</td><td>null</td><td>null</td><td>null</td><td>null</td><td>null</td><td>null</td><td>null</td><td>null</td><td>null</td><td>null</td><td>null</td><td>null</td><td>null</td><td>null</td><td>null</td><td>null</td><td>null</td><td>null</td><td>18</td><td>null</td><td>null</td><td>5211</td><td>&quot;Jordi Alba Ramos&quot;</td><td>6</td><td>&quot;Left Back&quot;</td><td>null</td><td>null</td><td>null</td><td>null</td><td>null</td><td>null</td><td>null</td><td>null</td></tr></tbody></table></div>"
      ],
      "text/plain": [
       "shape: (5, 132)\n",
       "┌────────────────────────────────┬───────┬────────┬──────────────┬───┬──────┬──────┬───────┬───────┐\n",
       "│ id                             ┆ index ┆ period ┆ timestamp    ┆ … ┆ x    ┆ y    ┆ end_x ┆ end_y │\n",
       "│ ---                            ┆ ---   ┆ ---    ┆ ---          ┆   ┆ ---  ┆ ---  ┆ ---   ┆ ---   │\n",
       "│ str                            ┆ i64   ┆ i64    ┆ datetime[μs] ┆   ┆ f64  ┆ f64  ┆ f64   ┆ f64   │\n",
       "╞════════════════════════════════╪═══════╪════════╪══════════════╪═══╪══════╪══════╪═══════╪═══════╡\n",
       "│ 9f6e2ecf-6685-45df-a62e-c2db30 ┆ 1     ┆ 1      ┆ null         ┆ … ┆ null ┆ null ┆ null  ┆ null  │\n",
       "│ …                              ┆       ┆        ┆              ┆   ┆      ┆      ┆       ┆       │\n",
       "│ 9f6e2ecf-6685-45df-a62e-c2db30 ┆ 1     ┆ 1      ┆ null         ┆ … ┆ null ┆ null ┆ null  ┆ null  │\n",
       "│ …                              ┆       ┆        ┆              ┆   ┆      ┆      ┆       ┆       │\n",
       "│ 9f6e2ecf-6685-45df-a62e-c2db30 ┆ 1     ┆ 1      ┆ null         ┆ … ┆ null ┆ null ┆ null  ┆ null  │\n",
       "│ …                              ┆       ┆        ┆              ┆   ┆      ┆      ┆       ┆       │\n",
       "│ 9f6e2ecf-6685-45df-a62e-c2db30 ┆ 1     ┆ 1      ┆ null         ┆ … ┆ null ┆ null ┆ null  ┆ null  │\n",
       "│ …                              ┆       ┆        ┆              ┆   ┆      ┆      ┆       ┆       │\n",
       "│ 9f6e2ecf-6685-45df-a62e-c2db30 ┆ 1     ┆ 1      ┆ null         ┆ … ┆ null ┆ null ┆ null  ┆ null  │\n",
       "│ …                              ┆       ┆        ┆              ┆   ┆      ┆      ┆       ┆       │\n",
       "└────────────────────────────────┴───────┴────────┴──────────────┴───┴──────┴──────┴───────┴───────┘"
      ]
     },
     "execution_count": 25,
     "metadata": {},
     "output_type": "execute_result"
    }
   ],
   "source": [
    "# Test enrich_locations (which tests normalize functions internally)\n",
    "# print(\"Before enriching:\")\n",
    "# print(f\"Has x column: {'x' in df.columns}\")\n",
    "# print(f\"Has y column: {'y' in df.columns}\")\n",
    "\n",
    "df_enriched = enrich_locations(df)\n",
    "# df['location'].dtype\n",
    "\n",
    "# print(\"\\nAfter enriching:\")\n",
    "# print(f\"Events with x,y coordinates: {df_enriched[['x', 'y']].notnull().all(axis=1).sum()}\")\n",
    "# print(f\"Pass events with end_x,end_y: {df_enriched[['end_x', 'end_y']].notnull().all(axis=1).sum()}\")\n",
    "\n",
    "# # Sample some results\n",
    "# sample_coords = df_enriched[df_enriched.x.notnull()][['location', 'x', 'y', 'end_x', 'end_y']].head(3)\n",
    "# print(f\"\\nSample normalized coordinates:\")\n",
    "# print(sample_coords)\n",
    "\n",
    "\n",
    "\n",
    "df_enriched.head(5)\n"
   ]
  }
 ],
 "metadata": {
  "kernelspec": {
   "display_name": ".venv",
   "language": "python",
   "name": "python3"
  },
  "language_info": {
   "codemirror_mode": {
    "name": "ipython",
    "version": 3
   },
   "file_extension": ".py",
   "mimetype": "text/x-python",
   "name": "python",
   "nbconvert_exporter": "python",
   "pygments_lexer": "ipython3",
   "version": "3.13.5"
  }
 },
 "nbformat": 4,
 "nbformat_minor": 5
}
